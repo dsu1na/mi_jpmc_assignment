{
 "cells": [
  {
   "cell_type": "markdown",
   "id": "d62a4aa1-216c-4201-bae5-85d716845964",
   "metadata": {},
   "source": [
    "## Observations\n",
    "\n",
    "<b>Positive</b>\n",
    "- All the columns are string types\n",
    "- No nulls\n",
    "\n",
    "<b>Negative</b>\n",
    "- Country Column has issues : same country is represented by different strings.\n",
    "\n",
    "  United States, US, America\n",
    "\n",
    "  United Kingdom, Uk, UK\n",
    "- Compay_name column has different subsidiaries of the same company. (Need clarification)"
   ]
  },
  {
   "cell_type": "code",
   "execution_count": 1,
   "id": "19c530eb-1fcf-497a-9a6d-7608798ac16c",
   "metadata": {},
   "outputs": [],
   "source": [
    "import pandas as pd"
   ]
  },
  {
   "cell_type": "code",
   "execution_count": 3,
   "id": "5b273180-9dec-4352-aabd-e14bc0af4409",
   "metadata": {},
   "outputs": [
    {
     "data": {
      "text/html": [
       "<div>\n",
       "<style scoped>\n",
       "    .dataframe tbody tr th:only-of-type {\n",
       "        vertical-align: middle;\n",
       "    }\n",
       "\n",
       "    .dataframe tbody tr th {\n",
       "        vertical-align: top;\n",
       "    }\n",
       "\n",
       "    .dataframe thead th {\n",
       "        text-align: right;\n",
       "    }\n",
       "</style>\n",
       "<table border=\"1\" class=\"dataframe\">\n",
       "  <thead>\n",
       "    <tr style=\"text-align: right;\">\n",
       "      <th></th>\n",
       "      <th>Contact Name</th>\n",
       "      <th>Company_name</th>\n",
       "      <th>Contact_id</th>\n",
       "      <th>Local Salutation</th>\n",
       "      <th>Region</th>\n",
       "      <th>Country</th>\n",
       "    </tr>\n",
       "  </thead>\n",
       "  <tbody>\n",
       "    <tr>\n",
       "      <th>0</th>\n",
       "      <td>Aaron Pugh</td>\n",
       "      <td>Aflac Inc.</td>\n",
       "      <td>00v2000000IZVYWAA5</td>\n",
       "      <td>Dear Aaron Pugh</td>\n",
       "      <td>EMEA</td>\n",
       "      <td>UK</td>\n",
       "    </tr>\n",
       "    <tr>\n",
       "      <th>1</th>\n",
       "      <td>Alford Brennan</td>\n",
       "      <td>Aflac Inc.</td>\n",
       "      <td>00v2000000IZW13AAH</td>\n",
       "      <td>Dear Alford Brennan</td>\n",
       "      <td>EMEA</td>\n",
       "      <td>UK</td>\n",
       "    </tr>\n",
       "    <tr>\n",
       "      <th>2</th>\n",
       "      <td>April Benton</td>\n",
       "      <td>Aflac Inc.</td>\n",
       "      <td>00v2000000IZUepAAH</td>\n",
       "      <td>Dear April Benton</td>\n",
       "      <td>EMEA</td>\n",
       "      <td>UK</td>\n",
       "    </tr>\n",
       "    <tr>\n",
       "      <th>3</th>\n",
       "      <td>Ainsley Asher</td>\n",
       "      <td>AIG SunAmerica</td>\n",
       "      <td>00v2000000IZWDdAAP</td>\n",
       "      <td>Dear Ainsley Asher</td>\n",
       "      <td>EMEA</td>\n",
       "      <td>UK</td>\n",
       "    </tr>\n",
       "    <tr>\n",
       "      <th>4</th>\n",
       "      <td>Amir Webster</td>\n",
       "      <td>AIG SunAmerica</td>\n",
       "      <td>00v2000000IZUdSAAX</td>\n",
       "      <td>Dear Amir Webster</td>\n",
       "      <td>EMEA</td>\n",
       "      <td>UK</td>\n",
       "    </tr>\n",
       "  </tbody>\n",
       "</table>\n",
       "</div>"
      ],
      "text/plain": [
       "     Contact Name    Company_name          Contact_id     Local Salutation  \\\n",
       "0      Aaron Pugh      Aflac Inc.  00v2000000IZVYWAA5      Dear Aaron Pugh   \n",
       "1  Alford Brennan      Aflac Inc.  00v2000000IZW13AAH  Dear Alford Brennan   \n",
       "2    April Benton      Aflac Inc.  00v2000000IZUepAAH    Dear April Benton   \n",
       "3   Ainsley Asher  AIG SunAmerica  00v2000000IZWDdAAP   Dear Ainsley Asher   \n",
       "4    Amir Webster  AIG SunAmerica  00v2000000IZUdSAAX    Dear Amir Webster   \n",
       "\n",
       "  Region Country  \n",
       "0   EMEA      UK  \n",
       "1   EMEA      UK  \n",
       "2   EMEA      UK  \n",
       "3   EMEA      UK  \n",
       "4   EMEA      UK  "
      ]
     },
     "execution_count": 3,
     "metadata": {},
     "output_type": "execute_result"
    }
   ],
   "source": [
    "contact_path = \"../data/Contact_details.csv\"\n",
    "contact_df = pd.read_csv(contact_path)\n",
    "contact_df.head()"
   ]
  },
  {
   "cell_type": "code",
   "execution_count": 5,
   "id": "86f8dbbe-379d-483a-a6be-756badd414c0",
   "metadata": {},
   "outputs": [
    {
     "data": {
      "text/plain": [
       "Contact Name        object\n",
       "Company_name        object\n",
       "Contact_id          object\n",
       "Local Salutation    object\n",
       "Region              object\n",
       "Country             object\n",
       "dtype: object"
      ]
     },
     "execution_count": 5,
     "metadata": {},
     "output_type": "execute_result"
    }
   ],
   "source": [
    "contact_df.dtypes"
   ]
  },
  {
   "cell_type": "code",
   "execution_count": 4,
   "id": "2768de4b-4cb7-441a-a088-318dd970f2f2",
   "metadata": {},
   "outputs": [
    {
     "name": "stdout",
     "output_type": "stream",
     "text": [
      "<class 'pandas.core.frame.DataFrame'>\n",
      "RangeIndex: 3872 entries, 0 to 3871\n",
      "Data columns (total 6 columns):\n",
      " #   Column            Non-Null Count  Dtype \n",
      "---  ------            --------------  ----- \n",
      " 0   Contact Name      3872 non-null   object\n",
      " 1   Company_name      3872 non-null   object\n",
      " 2   Contact_id        3872 non-null   object\n",
      " 3   Local Salutation  3872 non-null   object\n",
      " 4   Region            3872 non-null   object\n",
      " 5   Country           3872 non-null   object\n",
      "dtypes: object(6)\n",
      "memory usage: 181.6+ KB\n"
     ]
    }
   ],
   "source": [
    "contact_df.info()"
   ]
  },
  {
   "cell_type": "code",
   "execution_count": 6,
   "id": "01067782-1e1f-423e-a3f0-0f846c86fdc2",
   "metadata": {},
   "outputs": [
    {
     "data": {
      "text/html": [
       "<div>\n",
       "<style scoped>\n",
       "    .dataframe tbody tr th:only-of-type {\n",
       "        vertical-align: middle;\n",
       "    }\n",
       "\n",
       "    .dataframe tbody tr th {\n",
       "        vertical-align: top;\n",
       "    }\n",
       "\n",
       "    .dataframe thead th {\n",
       "        text-align: right;\n",
       "    }\n",
       "</style>\n",
       "<table border=\"1\" class=\"dataframe\">\n",
       "  <thead>\n",
       "    <tr style=\"text-align: right;\">\n",
       "      <th></th>\n",
       "      <th>Contact Name</th>\n",
       "      <th>Company_name</th>\n",
       "      <th>Contact_id</th>\n",
       "      <th>Local Salutation</th>\n",
       "      <th>Region</th>\n",
       "      <th>Country</th>\n",
       "    </tr>\n",
       "  </thead>\n",
       "  <tbody>\n",
       "    <tr>\n",
       "      <th>count</th>\n",
       "      <td>3872</td>\n",
       "      <td>3872</td>\n",
       "      <td>3872</td>\n",
       "      <td>3872</td>\n",
       "      <td>3872</td>\n",
       "      <td>3872</td>\n",
       "    </tr>\n",
       "    <tr>\n",
       "      <th>unique</th>\n",
       "      <td>3872</td>\n",
       "      <td>83</td>\n",
       "      <td>3872</td>\n",
       "      <td>3872</td>\n",
       "      <td>2</td>\n",
       "      <td>16</td>\n",
       "    </tr>\n",
       "    <tr>\n",
       "      <th>top</th>\n",
       "      <td>Aaron Pugh</td>\n",
       "      <td>HSBC</td>\n",
       "      <td>00v2000000IZVYWAA5</td>\n",
       "      <td>Dear Aaron Pugh</td>\n",
       "      <td>AMER</td>\n",
       "      <td>United States</td>\n",
       "    </tr>\n",
       "    <tr>\n",
       "      <th>freq</th>\n",
       "      <td>1</td>\n",
       "      <td>1040</td>\n",
       "      <td>1</td>\n",
       "      <td>1</td>\n",
       "      <td>2525</td>\n",
       "      <td>1700</td>\n",
       "    </tr>\n",
       "  </tbody>\n",
       "</table>\n",
       "</div>"
      ],
      "text/plain": [
       "       Contact Name Company_name          Contact_id Local Salutation Region  \\\n",
       "count          3872         3872                3872             3872   3872   \n",
       "unique         3872           83                3872             3872      2   \n",
       "top      Aaron Pugh         HSBC  00v2000000IZVYWAA5  Dear Aaron Pugh   AMER   \n",
       "freq              1         1040                   1                1   2525   \n",
       "\n",
       "              Country  \n",
       "count            3872  \n",
       "unique             16  \n",
       "top     United States  \n",
       "freq             1700  "
      ]
     },
     "execution_count": 6,
     "metadata": {},
     "output_type": "execute_result"
    }
   ],
   "source": [
    "contact_df.describe()"
   ]
  },
  {
   "cell_type": "code",
   "execution_count": 9,
   "id": "b9d70153-8df8-4738-8978-791f9acfba2b",
   "metadata": {},
   "outputs": [
    {
     "data": {
      "text/plain": [
       "Company_name\n",
       "HSBC                              1040\n",
       "BlackRock                          264\n",
       "Goldman Sachs                      136\n",
       "CIT Group                           56\n",
       "The Equitable                       56\n",
       "                                  ... \n",
       "New York Life Insurance             24\n",
       "Northwestern Mutual                 24\n",
       "NYSE – New York Stock Exchange      24\n",
       "Aflac Inc.                          24\n",
       "Independent                          8\n",
       "Name: count, Length: 83, dtype: int64"
      ]
     },
     "execution_count": 9,
     "metadata": {},
     "output_type": "execute_result"
    }
   ],
   "source": [
    "contact_df[\"Company_name\"].value_counts()"
   ]
  },
  {
   "cell_type": "code",
   "execution_count": 10,
   "id": "1f4b9012-46da-4bf3-b331-d7aa16b0d5b8",
   "metadata": {},
   "outputs": [
    {
     "data": {
      "text/plain": [
       "Region\n",
       "AMER    2525\n",
       "EMEA    1347\n",
       "Name: count, dtype: int64"
      ]
     },
     "execution_count": 10,
     "metadata": {},
     "output_type": "execute_result"
    }
   ],
   "source": [
    "contact_df[\"Region\"].value_counts()"
   ]
  },
  {
   "cell_type": "code",
   "execution_count": 11,
   "id": "9d302aee-d00e-44a5-9502-2429fbbc3f44",
   "metadata": {},
   "outputs": [
    {
     "data": {
      "text/plain": [
       "Country\n",
       "United States     1700\n",
       "Canada             405\n",
       "Portugal           385\n",
       "Italy              346\n",
       "UK                 225\n",
       "America            162\n",
       "US                 129\n",
       "Costa Rica         129\n",
       "Spain               97\n",
       "United Kingdom      65\n",
       "Germany             65\n",
       "Belgium             33\n",
       "France              33\n",
       "Sweden              33\n",
       "Switzerland         33\n",
       "Uk                  32\n",
       "Name: count, dtype: int64"
      ]
     },
     "execution_count": 11,
     "metadata": {},
     "output_type": "execute_result"
    }
   ],
   "source": [
    "contact_df[\"Country\"].value_counts()"
   ]
  },
  {
   "cell_type": "code",
   "execution_count": 12,
   "id": "fe07c9ef-eb6a-41d0-9947-9a87b54c26c9",
   "metadata": {},
   "outputs": [
    {
     "data": {
      "text/plain": [
       "Region  Country       \n",
       "AMER    United States     1700\n",
       "        Canada             405\n",
       "EMEA    Portugal           385\n",
       "        Italy              346\n",
       "        UK                 225\n",
       "AMER    America            162\n",
       "        Costa Rica         129\n",
       "        US                 129\n",
       "EMEA    Spain               97\n",
       "        Germany             65\n",
       "        United Kingdom      65\n",
       "        Belgium             33\n",
       "        France              33\n",
       "        Sweden              33\n",
       "        Switzerland         33\n",
       "        Uk                  32\n",
       "Name: count, dtype: int64"
      ]
     },
     "execution_count": 12,
     "metadata": {},
     "output_type": "execute_result"
    }
   ],
   "source": [
    "contact_df[[\"Region\", \"Country\"]].value_counts()"
   ]
  },
  {
   "cell_type": "code",
   "execution_count": 13,
   "id": "16b3e606-5b3c-4b22-b6f0-bb8ca6f6ff67",
   "metadata": {},
   "outputs": [
    {
     "data": {
      "text/plain": [
       "array(['Aflac Inc.', 'AIG SunAmerica', 'American Express Company',\n",
       "       'Bank of America Corporation', 'Bank One Corporation',\n",
       "       'Bear Stearns', 'Bloomberg', 'Bloomberg LP',\n",
       "       'Capital One Financial Corporation', 'CIT Group', 'Citigroup',\n",
       "       'CitiGroup Global Markets Inc.', 'Citizens Financial', 'Conseco',\n",
       "       'CountryWide Financial Corporation', 'Deloitte & Touche',\n",
       "       'Deloitte Touche Tohmatsu', 'Deutsche Bank', 'Deutsche Bank AG',\n",
       "       'Diebold Inc.', 'Dow Jones & Company Inc.', 'E*Trade', 'Equifax',\n",
       "       'Ernst & Young LLP', 'Fannie Mae', 'Fifth Third Bancorp',\n",
       "       'First of America Bank', 'Freddie Mac', 'Goldman Sachs',\n",
       "       'H&R Block Inc.', 'Hartford Financial Services',\n",
       "       'HSBC Holding PLC', 'HSBC USA', 'ING Groep', 'ING Groep NV',\n",
       "       'Intuit', 'John Hancock Financial Services', 'Kemper Insurance',\n",
       "       'KeyBank National Association', 'Legg Mason Inc.',\n",
       "       'Liberty Mutual Insurance',\n",
       "       'Massachusetts Mutual Life Insurance Company', 'MasterCard Inc.',\n",
       "       'MBNA', 'Mellon Financial', 'Merrill Lynch & Company Inc.',\n",
       "       'MetLife', 'Moody’s Corporation', 'Morgan Stanley',\n",
       "       'Mutual of Omaha', 'National City Corporation',\n",
       "       'Nationwide Financial Services', 'New York Life Insurance',\n",
       "       'Northwestern Mutual', 'Norwest Venture Capital Management Inc.',\n",
       "       'NYSE – New York Stock Exchange', 'Oppenheimer Holdings',\n",
       "       'Pacific Life Insurance Company', 'Pacific Mutual Holding Company',\n",
       "       'Pioneer Investment Management', 'PricewaterhouseCoopers',\n",
       "       'Progressive', 'Providian Financial',\n",
       "       'Sallie Mae (SLM Corporation)', 'Sovereign Bancorp',\n",
       "       'State Farm Mutual Automobile Insurance Company', 'SunTrust Banks',\n",
       "       'TD AmeriTrade', 'The Allstate Corporation',\n",
       "       'The Bank of New York Mellon Corporation',\n",
       "       'The Charles Schwab Corporation', 'The Equitable',\n",
       "       'The Guardian Life Insurance Company of America',\n",
       "       'The Travelers Companies Inc.', 'Transamerica Corporation',\n",
       "       'U.S. Bancorp', 'UBS', 'Visa Inc.', 'Washington Mutual',\n",
       "       'Wells Fargo & Company', 'Independent', 'HSBC', 'BlackRock'],\n",
       "      dtype=object)"
      ]
     },
     "execution_count": 13,
     "metadata": {},
     "output_type": "execute_result"
    }
   ],
   "source": [
    "contact_df[\"Company_name\"].unique()"
   ]
  },
  {
   "cell_type": "code",
   "execution_count": null,
   "id": "4d71344b-e557-4ae6-b581-2b4f7984b6dc",
   "metadata": {},
   "outputs": [],
   "source": []
  }
 ],
 "metadata": {
  "kernelspec": {
   "display_name": "Python 3 (ipykernel)",
   "language": "python",
   "name": "python3"
  },
  "language_info": {
   "codemirror_mode": {
    "name": "ipython",
    "version": 3
   },
   "file_extension": ".py",
   "mimetype": "text/x-python",
   "name": "python",
   "nbconvert_exporter": "python",
   "pygments_lexer": "ipython3",
   "version": "3.10.12"
  }
 },
 "nbformat": 4,
 "nbformat_minor": 5
}
