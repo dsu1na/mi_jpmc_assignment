{
 "cells": [
  {
   "cell_type": "markdown",
   "id": "38278cea-9563-4831-a0d2-f4d3be87e6d9",
   "metadata": {},
   "source": [
    "## Observations\n",
    "\n",
    "<b>Positive</b>\n",
    "- Non Null values for all columns except Primary Topic\n",
    "\n",
    "\n",
    "<b>Negative</b>\n",
    "- Data types are not correct.\n",
    "\n",
    "  Session_id should be object\n",
    "\n",
    "  Visit date should be date_time\n",
    "\n",
    "- Primary topic has NULL values\n",
    "- Need to understand what \"Page title\" and \"Actions\" are.\n",
    "- \"Primary Topic\" has different spellings for same word. There are special characters like (; / 4345 test)\n",
    "- \"Page Title\" has data issues. Same word has different spellings."
   ]
  },
  {
   "cell_type": "code",
   "execution_count": 1,
   "id": "413d0faf-62de-46cc-b050-2a843ed94bb9",
   "metadata": {},
   "outputs": [],
   "source": [
    "import pandas as pd"
   ]
  },
  {
   "cell_type": "code",
   "execution_count": 2,
   "id": "130adbc5-3288-4702-9b18-f22b2977c21b",
   "metadata": {},
   "outputs": [
    {
     "data": {
      "text/html": [
       "<div>\n",
       "<style scoped>\n",
       "    .dataframe tbody tr th:only-of-type {\n",
       "        vertical-align: middle;\n",
       "    }\n",
       "\n",
       "    .dataframe tbody tr th {\n",
       "        vertical-align: top;\n",
       "    }\n",
       "\n",
       "    .dataframe thead th {\n",
       "        text-align: right;\n",
       "    }\n",
       "</style>\n",
       "<table border=\"1\" class=\"dataframe\">\n",
       "  <thead>\n",
       "    <tr style=\"text-align: right;\">\n",
       "      <th></th>\n",
       "      <th>Session ID</th>\n",
       "      <th>Pageviews</th>\n",
       "      <th>Visit Date</th>\n",
       "      <th>Traffic Source</th>\n",
       "      <th>Actions</th>\n",
       "      <th>Time spent (in minutes)</th>\n",
       "      <th>Page Title</th>\n",
       "      <th>Contact ID</th>\n",
       "      <th>Primary Topic</th>\n",
       "    </tr>\n",
       "  </thead>\n",
       "  <tbody>\n",
       "    <tr>\n",
       "      <th>0</th>\n",
       "      <td>11002649</td>\n",
       "      <td>4</td>\n",
       "      <td>1-Jan-23</td>\n",
       "      <td>LinkedIn</td>\n",
       "      <td>Download</td>\n",
       "      <td>9</td>\n",
       "      <td>Contact</td>\n",
       "      <td>00v2000000KM7EdAAL</td>\n",
       "      <td>Fund Universe</td>\n",
       "    </tr>\n",
       "    <tr>\n",
       "      <th>1</th>\n",
       "      <td>11002963</td>\n",
       "      <td>5</td>\n",
       "      <td>1-Jan-23</td>\n",
       "      <td>Organic</td>\n",
       "      <td>Srcoll 50%</td>\n",
       "      <td>13</td>\n",
       "      <td>Contact</td>\n",
       "      <td>00v2000000KLfqsAAD</td>\n",
       "      <td>Fund Universe</td>\n",
       "    </tr>\n",
       "    <tr>\n",
       "      <th>2</th>\n",
       "      <td>11000521</td>\n",
       "      <td>7</td>\n",
       "      <td>1-Jan-23</td>\n",
       "      <td>Google</td>\n",
       "      <td>Srcoll 50%</td>\n",
       "      <td>3</td>\n",
       "      <td>Home</td>\n",
       "      <td>00v2000000KO68GAAT</td>\n",
       "      <td>Fund Universe</td>\n",
       "    </tr>\n",
       "    <tr>\n",
       "      <th>3</th>\n",
       "      <td>11001502</td>\n",
       "      <td>5</td>\n",
       "      <td>1-Jan-23</td>\n",
       "      <td>LinkedIn</td>\n",
       "      <td>Download</td>\n",
       "      <td>14</td>\n",
       "      <td>Contact</td>\n",
       "      <td>00v2000000KrZiaAAF</td>\n",
       "      <td>Fund Universe</td>\n",
       "    </tr>\n",
       "    <tr>\n",
       "      <th>4</th>\n",
       "      <td>11001448</td>\n",
       "      <td>6</td>\n",
       "      <td>1-Jan-23</td>\n",
       "      <td>Organic</td>\n",
       "      <td>Login</td>\n",
       "      <td>3</td>\n",
       "      <td>Home</td>\n",
       "      <td>00v2000000ez1ucAAA</td>\n",
       "      <td>Fund Universe</td>\n",
       "    </tr>\n",
       "  </tbody>\n",
       "</table>\n",
       "</div>"
      ],
      "text/plain": [
       "   Session ID  Pageviews Visit Date Traffic Source     Actions  \\\n",
       "0    11002649          4   1-Jan-23       LinkedIn    Download   \n",
       "1    11002963          5   1-Jan-23        Organic  Srcoll 50%   \n",
       "2    11000521          7   1-Jan-23         Google  Srcoll 50%   \n",
       "3    11001502          5   1-Jan-23       LinkedIn    Download   \n",
       "4    11001448          6   1-Jan-23        Organic       Login   \n",
       "\n",
       "   Time spent (in minutes) Page Title          Contact ID  Primary Topic  \n",
       "0                        9    Contact  00v2000000KM7EdAAL  Fund Universe  \n",
       "1                       13    Contact  00v2000000KLfqsAAD  Fund Universe  \n",
       "2                        3       Home  00v2000000KO68GAAT  Fund Universe  \n",
       "3                       14    Contact  00v2000000KrZiaAAF  Fund Universe  \n",
       "4                        3       Home  00v2000000ez1ucAAA  Fund Universe  "
      ]
     },
     "execution_count": 2,
     "metadata": {},
     "output_type": "execute_result"
    }
   ],
   "source": [
    "web_path = \"../data/Web_Traffic.csv\"\n",
    "web_df = pd.read_csv(web_path)\n",
    "web_df.head()"
   ]
  },
  {
   "cell_type": "code",
   "execution_count": 3,
   "id": "260b5cd3-aba4-4c7d-9175-8ac4b21294ae",
   "metadata": {},
   "outputs": [
    {
     "data": {
      "text/plain": [
       "Session ID                  int64\n",
       "Pageviews                   int64\n",
       "Visit Date                 object\n",
       "Traffic Source             object\n",
       "Actions                    object\n",
       "Time spent (in minutes)     int64\n",
       "Page Title                 object\n",
       "Contact ID                 object\n",
       "Primary Topic              object\n",
       "dtype: object"
      ]
     },
     "execution_count": 3,
     "metadata": {},
     "output_type": "execute_result"
    }
   ],
   "source": [
    "web_df.dtypes"
   ]
  },
  {
   "cell_type": "code",
   "execution_count": 4,
   "id": "d1554070-d56b-4046-9741-35837bb87af9",
   "metadata": {},
   "outputs": [
    {
     "name": "stdout",
     "output_type": "stream",
     "text": [
      "<class 'pandas.core.frame.DataFrame'>\n",
      "RangeIndex: 428332 entries, 0 to 428331\n",
      "Data columns (total 9 columns):\n",
      " #   Column                   Non-Null Count   Dtype \n",
      "---  ------                   --------------   ----- \n",
      " 0   Session ID               428332 non-null  int64 \n",
      " 1   Pageviews                428332 non-null  int64 \n",
      " 2   Visit Date               428332 non-null  object\n",
      " 3   Traffic Source           428174 non-null  object\n",
      " 4   Actions                  428332 non-null  object\n",
      " 5   Time spent (in minutes)  428332 non-null  int64 \n",
      " 6   Page Title               428332 non-null  object\n",
      " 7   Contact ID               428332 non-null  object\n",
      " 8   Primary Topic            291885 non-null  object\n",
      "dtypes: int64(3), object(6)\n",
      "memory usage: 29.4+ MB\n"
     ]
    }
   ],
   "source": [
    "web_df.info()"
   ]
  },
  {
   "cell_type": "code",
   "execution_count": 5,
   "id": "e10df124-1e96-4c19-b6c5-1b448149620b",
   "metadata": {},
   "outputs": [
    {
     "data": {
      "text/html": [
       "<div>\n",
       "<style scoped>\n",
       "    .dataframe tbody tr th:only-of-type {\n",
       "        vertical-align: middle;\n",
       "    }\n",
       "\n",
       "    .dataframe tbody tr th {\n",
       "        vertical-align: top;\n",
       "    }\n",
       "\n",
       "    .dataframe thead th {\n",
       "        text-align: right;\n",
       "    }\n",
       "</style>\n",
       "<table border=\"1\" class=\"dataframe\">\n",
       "  <thead>\n",
       "    <tr style=\"text-align: right;\">\n",
       "      <th></th>\n",
       "      <th>Session ID</th>\n",
       "      <th>Pageviews</th>\n",
       "      <th>Visit Date</th>\n",
       "      <th>Traffic Source</th>\n",
       "      <th>Actions</th>\n",
       "      <th>Time spent (in minutes)</th>\n",
       "      <th>Page Title</th>\n",
       "      <th>Contact ID</th>\n",
       "      <th>Primary Topic</th>\n",
       "    </tr>\n",
       "  </thead>\n",
       "  <tbody>\n",
       "    <tr>\n",
       "      <th>count</th>\n",
       "      <td>4.283320e+05</td>\n",
       "      <td>428332.000000</td>\n",
       "      <td>428332</td>\n",
       "      <td>428174</td>\n",
       "      <td>428332</td>\n",
       "      <td>428332.000000</td>\n",
       "      <td>428332</td>\n",
       "      <td>428332</td>\n",
       "      <td>291885</td>\n",
       "    </tr>\n",
       "    <tr>\n",
       "      <th>unique</th>\n",
       "      <td>NaN</td>\n",
       "      <td>NaN</td>\n",
       "      <td>412</td>\n",
       "      <td>6</td>\n",
       "      <td>8</td>\n",
       "      <td>NaN</td>\n",
       "      <td>7</td>\n",
       "      <td>3872</td>\n",
       "      <td>10</td>\n",
       "    </tr>\n",
       "    <tr>\n",
       "      <th>top</th>\n",
       "      <td>NaN</td>\n",
       "      <td>NaN</td>\n",
       "      <td>8-Oct-23</td>\n",
       "      <td>LinkedIn</td>\n",
       "      <td>Srcoll 50%</td>\n",
       "      <td>NaN</td>\n",
       "      <td>Home</td>\n",
       "      <td>00v2000000KXVZoAAP</td>\n",
       "      <td>Funds</td>\n",
       "    </tr>\n",
       "    <tr>\n",
       "      <th>freq</th>\n",
       "      <td>NaN</td>\n",
       "      <td>NaN</td>\n",
       "      <td>1131</td>\n",
       "      <td>179156</td>\n",
       "      <td>80518</td>\n",
       "      <td>NaN</td>\n",
       "      <td>102632</td>\n",
       "      <td>140</td>\n",
       "      <td>85450</td>\n",
       "    </tr>\n",
       "    <tr>\n",
       "      <th>mean</th>\n",
       "      <td>1.100176e+07</td>\n",
       "      <td>4.000712</td>\n",
       "      <td>NaN</td>\n",
       "      <td>NaN</td>\n",
       "      <td>NaN</td>\n",
       "      <td>8.006791</td>\n",
       "      <td>NaN</td>\n",
       "      <td>NaN</td>\n",
       "      <td>NaN</td>\n",
       "    </tr>\n",
       "    <tr>\n",
       "      <th>std</th>\n",
       "      <td>9.508609e+02</td>\n",
       "      <td>2.000969</td>\n",
       "      <td>NaN</td>\n",
       "      <td>NaN</td>\n",
       "      <td>NaN</td>\n",
       "      <td>4.320452</td>\n",
       "      <td>NaN</td>\n",
       "      <td>NaN</td>\n",
       "      <td>NaN</td>\n",
       "    </tr>\n",
       "    <tr>\n",
       "      <th>min</th>\n",
       "      <td>1.100011e+07</td>\n",
       "      <td>1.000000</td>\n",
       "      <td>NaN</td>\n",
       "      <td>NaN</td>\n",
       "      <td>NaN</td>\n",
       "      <td>1.000000</td>\n",
       "      <td>NaN</td>\n",
       "      <td>NaN</td>\n",
       "      <td>NaN</td>\n",
       "    </tr>\n",
       "    <tr>\n",
       "      <th>25%</th>\n",
       "      <td>1.100094e+07</td>\n",
       "      <td>2.000000</td>\n",
       "      <td>NaN</td>\n",
       "      <td>NaN</td>\n",
       "      <td>NaN</td>\n",
       "      <td>4.000000</td>\n",
       "      <td>NaN</td>\n",
       "      <td>NaN</td>\n",
       "      <td>NaN</td>\n",
       "    </tr>\n",
       "    <tr>\n",
       "      <th>50%</th>\n",
       "      <td>1.100176e+07</td>\n",
       "      <td>4.000000</td>\n",
       "      <td>NaN</td>\n",
       "      <td>NaN</td>\n",
       "      <td>NaN</td>\n",
       "      <td>8.000000</td>\n",
       "      <td>NaN</td>\n",
       "      <td>NaN</td>\n",
       "      <td>NaN</td>\n",
       "    </tr>\n",
       "    <tr>\n",
       "      <th>75%</th>\n",
       "      <td>1.100258e+07</td>\n",
       "      <td>6.000000</td>\n",
       "      <td>NaN</td>\n",
       "      <td>NaN</td>\n",
       "      <td>NaN</td>\n",
       "      <td>12.000000</td>\n",
       "      <td>NaN</td>\n",
       "      <td>NaN</td>\n",
       "      <td>NaN</td>\n",
       "    </tr>\n",
       "    <tr>\n",
       "      <th>max</th>\n",
       "      <td>1.100340e+07</td>\n",
       "      <td>7.000000</td>\n",
       "      <td>NaN</td>\n",
       "      <td>NaN</td>\n",
       "      <td>NaN</td>\n",
       "      <td>15.000000</td>\n",
       "      <td>NaN</td>\n",
       "      <td>NaN</td>\n",
       "      <td>NaN</td>\n",
       "    </tr>\n",
       "  </tbody>\n",
       "</table>\n",
       "</div>"
      ],
      "text/plain": [
       "          Session ID      Pageviews Visit Date Traffic Source     Actions  \\\n",
       "count   4.283320e+05  428332.000000     428332         428174      428332   \n",
       "unique           NaN            NaN        412              6           8   \n",
       "top              NaN            NaN   8-Oct-23       LinkedIn  Srcoll 50%   \n",
       "freq             NaN            NaN       1131         179156       80518   \n",
       "mean    1.100176e+07       4.000712        NaN            NaN         NaN   \n",
       "std     9.508609e+02       2.000969        NaN            NaN         NaN   \n",
       "min     1.100011e+07       1.000000        NaN            NaN         NaN   \n",
       "25%     1.100094e+07       2.000000        NaN            NaN         NaN   \n",
       "50%     1.100176e+07       4.000000        NaN            NaN         NaN   \n",
       "75%     1.100258e+07       6.000000        NaN            NaN         NaN   \n",
       "max     1.100340e+07       7.000000        NaN            NaN         NaN   \n",
       "\n",
       "        Time spent (in minutes) Page Title          Contact ID Primary Topic  \n",
       "count             428332.000000     428332              428332        291885  \n",
       "unique                      NaN          7                3872            10  \n",
       "top                         NaN       Home  00v2000000KXVZoAAP         Funds  \n",
       "freq                        NaN     102632                 140         85450  \n",
       "mean                   8.006791        NaN                 NaN           NaN  \n",
       "std                    4.320452        NaN                 NaN           NaN  \n",
       "min                    1.000000        NaN                 NaN           NaN  \n",
       "25%                    4.000000        NaN                 NaN           NaN  \n",
       "50%                    8.000000        NaN                 NaN           NaN  \n",
       "75%                   12.000000        NaN                 NaN           NaN  \n",
       "max                   15.000000        NaN                 NaN           NaN  "
      ]
     },
     "execution_count": 5,
     "metadata": {},
     "output_type": "execute_result"
    }
   ],
   "source": [
    "web_df.describe(include = \"all\")"
   ]
  },
  {
   "cell_type": "code",
   "execution_count": 6,
   "id": "06ff0c43-b6f9-41c4-b69b-d95e8a43fd5c",
   "metadata": {},
   "outputs": [
    {
     "data": {
      "text/plain": [
       "Traffic Source\n",
       "LinkedIn    179156\n",
       "Organic      88277\n",
       "Youtube      62203\n",
       "Google       60922\n",
       "YouTube      30530\n",
       "organic       7086\n",
       "Name: count, dtype: int64"
      ]
     },
     "execution_count": 6,
     "metadata": {},
     "output_type": "execute_result"
    }
   ],
   "source": [
    "web_df[\"Traffic Source\"].value_counts()"
   ]
  },
  {
   "cell_type": "code",
   "execution_count": 7,
   "id": "8e2193dd-f368-4998-8fcb-b6761dcd04ff",
   "metadata": {},
   "outputs": [
    {
     "data": {
      "text/plain": [
       "Actions\n",
       "Srcoll 50%     80518\n",
       "Download       80195\n",
       "Scroll 25%     53731\n",
       "Video          53545\n",
       "Login          53507\n",
       "CTA            53450\n",
       "Scroll 100%    26820\n",
       "Scroll 75%     26566\n",
       "Name: count, dtype: int64"
      ]
     },
     "execution_count": 7,
     "metadata": {},
     "output_type": "execute_result"
    }
   ],
   "source": [
    "web_df[\"Actions\"].value_counts()"
   ]
  },
  {
   "cell_type": "code",
   "execution_count": 8,
   "id": "1e50c231-2d66-4b01-b652-ae94ddff41f0",
   "metadata": {},
   "outputs": [
    {
     "data": {
      "text/plain": [
       "Page Title\n",
       "Home          102632\n",
       "Funds          85450\n",
       "Navigation     85356\n",
       "Strategy       51686\n",
       "Contact        34595\n",
       "Invest         34309\n",
       "funds          34304\n",
       "Name: count, dtype: int64"
      ]
     },
     "execution_count": 8,
     "metadata": {},
     "output_type": "execute_result"
    }
   ],
   "source": [
    "web_df[\"Page Title\"].value_counts()"
   ]
  },
  {
   "cell_type": "code",
   "execution_count": 11,
   "id": "73fe70f7-2840-4bd0-b0e3-9f2adaec3e30",
   "metadata": {},
   "outputs": [
    {
     "data": {
      "text/plain": [
       "Page Title  Actions    \n",
       "Contact     CTA             4313\n",
       "            Download        6505\n",
       "            Login           4338\n",
       "            Scroll 100%     2131\n",
       "            Scroll 25%      4340\n",
       "            Scroll 75%      2137\n",
       "            Srcoll 50%      6546\n",
       "            Video           4285\n",
       "Funds       CTA            10616\n",
       "            Download       16149\n",
       "            Login          10659\n",
       "            Scroll 100%     5422\n",
       "            Scroll 25%     10675\n",
       "            Scroll 75%      5332\n",
       "            Srcoll 50%     15972\n",
       "            Video          10625\n",
       "Home        CTA            12790\n",
       "            Download       19083\n",
       "            Login          12804\n",
       "            Scroll 100%     6388\n",
       "            Scroll 25%     13012\n",
       "            Scroll 75%      6364\n",
       "            Srcoll 50%     19328\n",
       "            Video          12863\n",
       "Invest      CTA             4219\n",
       "            Download        6420\n",
       "            Login           4312\n",
       "            Scroll 100%     2173\n",
       "            Scroll 25%      4303\n",
       "            Scroll 75%      2149\n",
       "            Srcoll 50%      6400\n",
       "            Video           4333\n",
       "Navigation  CTA            10650\n",
       "            Download       15975\n",
       "            Login          10674\n",
       "            Scroll 100%     5289\n",
       "            Scroll 25%     10726\n",
       "            Scroll 75%      5234\n",
       "            Srcoll 50%     16070\n",
       "            Video          10738\n",
       "Strategy    CTA             6540\n",
       "            Download        9697\n",
       "            Login           6425\n",
       "            Scroll 100%     3248\n",
       "            Scroll 25%      6450\n",
       "            Scroll 75%      3218\n",
       "            Srcoll 50%      9676\n",
       "            Video           6432\n",
       "funds       CTA             4322\n",
       "            Download        6366\n",
       "            Login           4295\n",
       "            Scroll 100%     2169\n",
       "            Scroll 25%      4225\n",
       "            Scroll 75%      2132\n",
       "            Srcoll 50%      6526\n",
       "            Video           4269\n",
       "Name: count, dtype: int64"
      ]
     },
     "execution_count": 11,
     "metadata": {},
     "output_type": "execute_result"
    }
   ],
   "source": [
    "web_df[[\"Page Title\", \"Actions\"]].value_counts().sort_index()"
   ]
  },
  {
   "cell_type": "code",
   "execution_count": 12,
   "id": "ffdf1f27-c6e4-41ba-b240-6aef05593eee",
   "metadata": {},
   "outputs": [
    {
     "data": {
      "text/plain": [
       "Primary Topic\n",
       "Funds            85450\n",
       "Navigation       85356\n",
       "Strategy         51686\n",
       "Invest           34309\n",
       "funds            34304\n",
       "Fund Universe      650\n",
       "/                   96\n",
       ";                   32\n",
       "4345                 1\n",
       "test                 1\n",
       "Name: count, dtype: int64"
      ]
     },
     "execution_count": 12,
     "metadata": {},
     "output_type": "execute_result"
    }
   ],
   "source": [
    "web_df[\"Primary Topic\"].value_counts()"
   ]
  },
  {
   "cell_type": "code",
   "execution_count": null,
   "id": "5916fdad-9baf-4de0-b7b5-47470274d12b",
   "metadata": {},
   "outputs": [],
   "source": []
  }
 ],
 "metadata": {
  "kernelspec": {
   "display_name": "Python 3 (ipykernel)",
   "language": "python",
   "name": "python3"
  },
  "language_info": {
   "codemirror_mode": {
    "name": "ipython",
    "version": 3
   },
   "file_extension": ".py",
   "mimetype": "text/x-python",
   "name": "python",
   "nbconvert_exporter": "python",
   "pygments_lexer": "ipython3",
   "version": "3.10.12"
  }
 },
 "nbformat": 4,
 "nbformat_minor": 5
}
