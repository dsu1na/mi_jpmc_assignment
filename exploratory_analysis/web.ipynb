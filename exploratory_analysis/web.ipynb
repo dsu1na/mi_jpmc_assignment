{
 "cells": [
  {
   "cell_type": "markdown",
   "id": "eca8efc9-2be8-4180-8e6f-0f24c5ed91a0",
   "metadata": {},
   "source": [
    "## Observations"
   ]
  },
  {
   "cell_type": "markdown",
   "id": "38b24a04-2c72-4263-b834-b456ea9874f1",
   "metadata": {},
   "source": [
    "## Read the csv"
   ]
  },
  {
   "cell_type": "code",
   "execution_count": 1,
   "id": "0d439aa9-8501-40e2-8df2-aafd1310c9e9",
   "metadata": {},
   "outputs": [
    {
     "name": "stderr",
     "output_type": "stream",
     "text": [
      "/tmp/ipykernel_27942/2866864396.py:4: UserWarning: Could not infer format, so each element will be parsed individually, falling back to `dateutil`. To ensure parsing is consistent and as-expected, please specify a format.\n",
      "  web_df = pd.read_csv(web_path, parse_dates=[\"Visit Date\"])\n"
     ]
    },
    {
     "data": {
      "text/html": [
       "<div>\n",
       "<style scoped>\n",
       "    .dataframe tbody tr th:only-of-type {\n",
       "        vertical-align: middle;\n",
       "    }\n",
       "\n",
       "    .dataframe tbody tr th {\n",
       "        vertical-align: top;\n",
       "    }\n",
       "\n",
       "    .dataframe thead th {\n",
       "        text-align: right;\n",
       "    }\n",
       "</style>\n",
       "<table border=\"1\" class=\"dataframe\">\n",
       "  <thead>\n",
       "    <tr style=\"text-align: right;\">\n",
       "      <th></th>\n",
       "      <th>Session ID</th>\n",
       "      <th>Pageviews</th>\n",
       "      <th>Visit Date</th>\n",
       "      <th>Traffic Source</th>\n",
       "      <th>Actions</th>\n",
       "      <th>Time spent (in minutes)</th>\n",
       "      <th>Page Title</th>\n",
       "      <th>Contact ID</th>\n",
       "      <th>Primary Topic</th>\n",
       "    </tr>\n",
       "  </thead>\n",
       "  <tbody>\n",
       "    <tr>\n",
       "      <th>0</th>\n",
       "      <td>11002649</td>\n",
       "      <td>4</td>\n",
       "      <td>2023-01-01</td>\n",
       "      <td>LinkedIn</td>\n",
       "      <td>Download</td>\n",
       "      <td>9</td>\n",
       "      <td>Contact</td>\n",
       "      <td>00v2000000KM7EdAAL</td>\n",
       "      <td>Fund Universe</td>\n",
       "    </tr>\n",
       "    <tr>\n",
       "      <th>1</th>\n",
       "      <td>11002963</td>\n",
       "      <td>5</td>\n",
       "      <td>2023-01-01</td>\n",
       "      <td>Organic</td>\n",
       "      <td>Srcoll 50%</td>\n",
       "      <td>13</td>\n",
       "      <td>Contact</td>\n",
       "      <td>00v2000000KLfqsAAD</td>\n",
       "      <td>Fund Universe</td>\n",
       "    </tr>\n",
       "    <tr>\n",
       "      <th>2</th>\n",
       "      <td>11000521</td>\n",
       "      <td>7</td>\n",
       "      <td>2023-01-01</td>\n",
       "      <td>Google</td>\n",
       "      <td>Srcoll 50%</td>\n",
       "      <td>3</td>\n",
       "      <td>Home</td>\n",
       "      <td>00v2000000KO68GAAT</td>\n",
       "      <td>Fund Universe</td>\n",
       "    </tr>\n",
       "    <tr>\n",
       "      <th>3</th>\n",
       "      <td>11001502</td>\n",
       "      <td>5</td>\n",
       "      <td>2023-01-01</td>\n",
       "      <td>LinkedIn</td>\n",
       "      <td>Download</td>\n",
       "      <td>14</td>\n",
       "      <td>Contact</td>\n",
       "      <td>00v2000000KrZiaAAF</td>\n",
       "      <td>Fund Universe</td>\n",
       "    </tr>\n",
       "    <tr>\n",
       "      <th>4</th>\n",
       "      <td>11001448</td>\n",
       "      <td>6</td>\n",
       "      <td>2023-01-01</td>\n",
       "      <td>Organic</td>\n",
       "      <td>Login</td>\n",
       "      <td>3</td>\n",
       "      <td>Home</td>\n",
       "      <td>00v2000000ez1ucAAA</td>\n",
       "      <td>Fund Universe</td>\n",
       "    </tr>\n",
       "  </tbody>\n",
       "</table>\n",
       "</div>"
      ],
      "text/plain": [
       "   Session ID  Pageviews Visit Date Traffic Source     Actions  \\\n",
       "0    11002649          4 2023-01-01       LinkedIn    Download   \n",
       "1    11002963          5 2023-01-01        Organic  Srcoll 50%   \n",
       "2    11000521          7 2023-01-01         Google  Srcoll 50%   \n",
       "3    11001502          5 2023-01-01       LinkedIn    Download   \n",
       "4    11001448          6 2023-01-01        Organic       Login   \n",
       "\n",
       "   Time spent (in minutes) Page Title          Contact ID  Primary Topic  \n",
       "0                        9    Contact  00v2000000KM7EdAAL  Fund Universe  \n",
       "1                       13    Contact  00v2000000KLfqsAAD  Fund Universe  \n",
       "2                        3       Home  00v2000000KO68GAAT  Fund Universe  \n",
       "3                       14    Contact  00v2000000KrZiaAAF  Fund Universe  \n",
       "4                        3       Home  00v2000000ez1ucAAA  Fund Universe  "
      ]
     },
     "execution_count": 1,
     "metadata": {},
     "output_type": "execute_result"
    }
   ],
   "source": [
    "import pandas as pd\n",
    "\n",
    "web_path = \"../data/Web_Traffic.csv\"\n",
    "web_df = pd.read_csv(web_path, parse_dates=[\"Visit Date\"])\n",
    "web_df.head()"
   ]
  },
  {
   "cell_type": "code",
   "execution_count": 2,
   "id": "0ebe7260-aa8f-48e8-b125-a848fc316bb1",
   "metadata": {},
   "outputs": [],
   "source": [
    "contact_path = \"../data/Contact_details.csv\"\n",
    "contact_df = pd.read_csv(contact_path)"
   ]
  },
  {
   "cell_type": "markdown",
   "id": "2be73b59-cbfb-40b1-980e-99ab15df424d",
   "metadata": {},
   "source": [
    "## Description of the dataframe"
   ]
  },
  {
   "cell_type": "code",
   "execution_count": 3,
   "id": "244ce48e-fc3e-4f83-afa0-bba1997fa3ff",
   "metadata": {},
   "outputs": [
    {
     "data": {
      "text/plain": [
       "Session ID                          int64\n",
       "Pageviews                           int64\n",
       "Visit Date                 datetime64[ns]\n",
       "Traffic Source                     object\n",
       "Actions                            object\n",
       "Time spent (in minutes)             int64\n",
       "Page Title                         object\n",
       "Contact ID                         object\n",
       "Primary Topic                      object\n",
       "dtype: object"
      ]
     },
     "execution_count": 3,
     "metadata": {},
     "output_type": "execute_result"
    }
   ],
   "source": [
    "web_df.dtypes"
   ]
  },
  {
   "cell_type": "code",
   "execution_count": 4,
   "id": "d0b3d6db-6447-47ee-a9a6-d9409eb9127f",
   "metadata": {},
   "outputs": [
    {
     "name": "stdout",
     "output_type": "stream",
     "text": [
      "<class 'pandas.core.frame.DataFrame'>\n",
      "RangeIndex: 428332 entries, 0 to 428331\n",
      "Data columns (total 9 columns):\n",
      " #   Column                   Non-Null Count   Dtype         \n",
      "---  ------                   --------------   -----         \n",
      " 0   Session ID               428332 non-null  int64         \n",
      " 1   Pageviews                428332 non-null  int64         \n",
      " 2   Visit Date               428332 non-null  datetime64[ns]\n",
      " 3   Traffic Source           428174 non-null  object        \n",
      " 4   Actions                  428332 non-null  object        \n",
      " 5   Time spent (in minutes)  428332 non-null  int64         \n",
      " 6   Page Title               428332 non-null  object        \n",
      " 7   Contact ID               428332 non-null  object        \n",
      " 8   Primary Topic            291885 non-null  object        \n",
      "dtypes: datetime64[ns](1), int64(3), object(5)\n",
      "memory usage: 29.4+ MB\n"
     ]
    }
   ],
   "source": [
    "web_df.info()"
   ]
  },
  {
   "cell_type": "code",
   "execution_count": 5,
   "id": "c3c760bb-6086-41c7-9854-a6719d82b2a3",
   "metadata": {},
   "outputs": [
    {
     "data": {
      "text/html": [
       "<div>\n",
       "<style scoped>\n",
       "    .dataframe tbody tr th:only-of-type {\n",
       "        vertical-align: middle;\n",
       "    }\n",
       "\n",
       "    .dataframe tbody tr th {\n",
       "        vertical-align: top;\n",
       "    }\n",
       "\n",
       "    .dataframe thead th {\n",
       "        text-align: right;\n",
       "    }\n",
       "</style>\n",
       "<table border=\"1\" class=\"dataframe\">\n",
       "  <thead>\n",
       "    <tr style=\"text-align: right;\">\n",
       "      <th></th>\n",
       "      <th>Session ID</th>\n",
       "      <th>Pageviews</th>\n",
       "      <th>Visit Date</th>\n",
       "      <th>Traffic Source</th>\n",
       "      <th>Actions</th>\n",
       "      <th>Time spent (in minutes)</th>\n",
       "      <th>Page Title</th>\n",
       "      <th>Contact ID</th>\n",
       "      <th>Primary Topic</th>\n",
       "    </tr>\n",
       "  </thead>\n",
       "  <tbody>\n",
       "    <tr>\n",
       "      <th>count</th>\n",
       "      <td>4.283320e+05</td>\n",
       "      <td>428332.000000</td>\n",
       "      <td>428332</td>\n",
       "      <td>428174</td>\n",
       "      <td>428332</td>\n",
       "      <td>428332.000000</td>\n",
       "      <td>428332</td>\n",
       "      <td>428332</td>\n",
       "      <td>291885</td>\n",
       "    </tr>\n",
       "    <tr>\n",
       "      <th>unique</th>\n",
       "      <td>NaN</td>\n",
       "      <td>NaN</td>\n",
       "      <td>NaN</td>\n",
       "      <td>6</td>\n",
       "      <td>8</td>\n",
       "      <td>NaN</td>\n",
       "      <td>7</td>\n",
       "      <td>3872</td>\n",
       "      <td>10</td>\n",
       "    </tr>\n",
       "    <tr>\n",
       "      <th>top</th>\n",
       "      <td>NaN</td>\n",
       "      <td>NaN</td>\n",
       "      <td>NaN</td>\n",
       "      <td>LinkedIn</td>\n",
       "      <td>Srcoll 50%</td>\n",
       "      <td>NaN</td>\n",
       "      <td>Home</td>\n",
       "      <td>00v2000000KXVZoAAP</td>\n",
       "      <td>Funds</td>\n",
       "    </tr>\n",
       "    <tr>\n",
       "      <th>freq</th>\n",
       "      <td>NaN</td>\n",
       "      <td>NaN</td>\n",
       "      <td>NaN</td>\n",
       "      <td>179156</td>\n",
       "      <td>80518</td>\n",
       "      <td>NaN</td>\n",
       "      <td>102632</td>\n",
       "      <td>140</td>\n",
       "      <td>85450</td>\n",
       "    </tr>\n",
       "    <tr>\n",
       "      <th>mean</th>\n",
       "      <td>1.100176e+07</td>\n",
       "      <td>4.000712</td>\n",
       "      <td>2023-07-25 09:03:26.856364288</td>\n",
       "      <td>NaN</td>\n",
       "      <td>NaN</td>\n",
       "      <td>8.006791</td>\n",
       "      <td>NaN</td>\n",
       "      <td>NaN</td>\n",
       "      <td>NaN</td>\n",
       "    </tr>\n",
       "    <tr>\n",
       "      <th>min</th>\n",
       "      <td>1.100011e+07</td>\n",
       "      <td>1.000000</td>\n",
       "      <td>2023-01-01 00:00:00</td>\n",
       "      <td>NaN</td>\n",
       "      <td>NaN</td>\n",
       "      <td>1.000000</td>\n",
       "      <td>NaN</td>\n",
       "      <td>NaN</td>\n",
       "      <td>NaN</td>\n",
       "    </tr>\n",
       "    <tr>\n",
       "      <th>25%</th>\n",
       "      <td>1.100094e+07</td>\n",
       "      <td>2.000000</td>\n",
       "      <td>2023-04-13 00:00:00</td>\n",
       "      <td>NaN</td>\n",
       "      <td>NaN</td>\n",
       "      <td>4.000000</td>\n",
       "      <td>NaN</td>\n",
       "      <td>NaN</td>\n",
       "      <td>NaN</td>\n",
       "    </tr>\n",
       "    <tr>\n",
       "      <th>50%</th>\n",
       "      <td>1.100176e+07</td>\n",
       "      <td>4.000000</td>\n",
       "      <td>2023-07-25 00:00:00</td>\n",
       "      <td>NaN</td>\n",
       "      <td>NaN</td>\n",
       "      <td>8.000000</td>\n",
       "      <td>NaN</td>\n",
       "      <td>NaN</td>\n",
       "      <td>NaN</td>\n",
       "    </tr>\n",
       "    <tr>\n",
       "      <th>75%</th>\n",
       "      <td>1.100258e+07</td>\n",
       "      <td>6.000000</td>\n",
       "      <td>2023-11-06 00:00:00</td>\n",
       "      <td>NaN</td>\n",
       "      <td>NaN</td>\n",
       "      <td>12.000000</td>\n",
       "      <td>NaN</td>\n",
       "      <td>NaN</td>\n",
       "      <td>NaN</td>\n",
       "    </tr>\n",
       "    <tr>\n",
       "      <th>max</th>\n",
       "      <td>1.100340e+07</td>\n",
       "      <td>7.000000</td>\n",
       "      <td>2024-02-16 00:00:00</td>\n",
       "      <td>NaN</td>\n",
       "      <td>NaN</td>\n",
       "      <td>15.000000</td>\n",
       "      <td>NaN</td>\n",
       "      <td>NaN</td>\n",
       "      <td>NaN</td>\n",
       "    </tr>\n",
       "    <tr>\n",
       "      <th>std</th>\n",
       "      <td>9.508609e+02</td>\n",
       "      <td>2.000969</td>\n",
       "      <td>NaN</td>\n",
       "      <td>NaN</td>\n",
       "      <td>NaN</td>\n",
       "      <td>4.320452</td>\n",
       "      <td>NaN</td>\n",
       "      <td>NaN</td>\n",
       "      <td>NaN</td>\n",
       "    </tr>\n",
       "  </tbody>\n",
       "</table>\n",
       "</div>"
      ],
      "text/plain": [
       "          Session ID      Pageviews                     Visit Date  \\\n",
       "count   4.283320e+05  428332.000000                         428332   \n",
       "unique           NaN            NaN                            NaN   \n",
       "top              NaN            NaN                            NaN   \n",
       "freq             NaN            NaN                            NaN   \n",
       "mean    1.100176e+07       4.000712  2023-07-25 09:03:26.856364288   \n",
       "min     1.100011e+07       1.000000            2023-01-01 00:00:00   \n",
       "25%     1.100094e+07       2.000000            2023-04-13 00:00:00   \n",
       "50%     1.100176e+07       4.000000            2023-07-25 00:00:00   \n",
       "75%     1.100258e+07       6.000000            2023-11-06 00:00:00   \n",
       "max     1.100340e+07       7.000000            2024-02-16 00:00:00   \n",
       "std     9.508609e+02       2.000969                            NaN   \n",
       "\n",
       "       Traffic Source     Actions  Time spent (in minutes) Page Title  \\\n",
       "count          428174      428332            428332.000000     428332   \n",
       "unique              6           8                      NaN          7   \n",
       "top          LinkedIn  Srcoll 50%                      NaN       Home   \n",
       "freq           179156       80518                      NaN     102632   \n",
       "mean              NaN         NaN                 8.006791        NaN   \n",
       "min               NaN         NaN                 1.000000        NaN   \n",
       "25%               NaN         NaN                 4.000000        NaN   \n",
       "50%               NaN         NaN                 8.000000        NaN   \n",
       "75%               NaN         NaN                12.000000        NaN   \n",
       "max               NaN         NaN                15.000000        NaN   \n",
       "std               NaN         NaN                 4.320452        NaN   \n",
       "\n",
       "                Contact ID Primary Topic  \n",
       "count               428332        291885  \n",
       "unique                3872            10  \n",
       "top     00v2000000KXVZoAAP         Funds  \n",
       "freq                   140         85450  \n",
       "mean                   NaN           NaN  \n",
       "min                    NaN           NaN  \n",
       "25%                    NaN           NaN  \n",
       "50%                    NaN           NaN  \n",
       "75%                    NaN           NaN  \n",
       "max                    NaN           NaN  \n",
       "std                    NaN           NaN  "
      ]
     },
     "execution_count": 5,
     "metadata": {},
     "output_type": "execute_result"
    }
   ],
   "source": [
    "web_df.describe(include = \"all\")"
   ]
  },
  {
   "cell_type": "markdown",
   "id": "8d2c3476-9728-48f8-9a56-eab20710ea9a",
   "metadata": {},
   "source": [
    "## Duplicate Analysis"
   ]
  },
  {
   "cell_type": "code",
   "execution_count": 6,
   "id": "0156f3a7-ebca-4af1-9305-fe4b4d19adb0",
   "metadata": {},
   "outputs": [
    {
     "data": {
      "text/html": [
       "<div>\n",
       "<style scoped>\n",
       "    .dataframe tbody tr th:only-of-type {\n",
       "        vertical-align: middle;\n",
       "    }\n",
       "\n",
       "    .dataframe tbody tr th {\n",
       "        vertical-align: top;\n",
       "    }\n",
       "\n",
       "    .dataframe thead th {\n",
       "        text-align: right;\n",
       "    }\n",
       "</style>\n",
       "<table border=\"1\" class=\"dataframe\">\n",
       "  <thead>\n",
       "    <tr style=\"text-align: right;\">\n",
       "      <th></th>\n",
       "      <th>Session ID</th>\n",
       "      <th>Pageviews</th>\n",
       "      <th>Visit Date</th>\n",
       "      <th>Traffic Source</th>\n",
       "      <th>Actions</th>\n",
       "      <th>Time spent (in minutes)</th>\n",
       "      <th>Page Title</th>\n",
       "      <th>Contact ID</th>\n",
       "      <th>Primary Topic</th>\n",
       "    </tr>\n",
       "  </thead>\n",
       "  <tbody>\n",
       "  </tbody>\n",
       "</table>\n",
       "</div>"
      ],
      "text/plain": [
       "Empty DataFrame\n",
       "Columns: [Session ID, Pageviews, Visit Date, Traffic Source, Actions, Time spent (in minutes), Page Title, Contact ID, Primary Topic]\n",
       "Index: []"
      ]
     },
     "execution_count": 6,
     "metadata": {},
     "output_type": "execute_result"
    }
   ],
   "source": [
    "web_df[web_df.duplicated()]"
   ]
  },
  {
   "cell_type": "markdown",
   "id": "8e7ccb1e-fb90-44d2-98fd-c7b45c047d55",
   "metadata": {},
   "source": [
    "## Column value counts"
   ]
  },
  {
   "cell_type": "code",
   "execution_count": 7,
   "id": "bebae13f-f8be-40bc-aeb3-89d1e23cb68d",
   "metadata": {},
   "outputs": [
    {
     "data": {
      "text/plain": [
       "Traffic Source\n",
       "LinkedIn    179156\n",
       "Organic      88277\n",
       "Youtube      62203\n",
       "Google       60922\n",
       "YouTube      30530\n",
       "organic       7086\n",
       "Name: count, dtype: int64"
      ]
     },
     "execution_count": 7,
     "metadata": {},
     "output_type": "execute_result"
    }
   ],
   "source": [
    "web_df[\"Traffic Source\"].value_counts()"
   ]
  },
  {
   "cell_type": "code",
   "execution_count": 8,
   "id": "704c0b73-a55c-49d5-9412-199570ceb842",
   "metadata": {},
   "outputs": [
    {
     "data": {
      "text/plain": [
       "Actions\n",
       "Srcoll 50%     80518\n",
       "Download       80195\n",
       "Scroll 25%     53731\n",
       "Video          53545\n",
       "Login          53507\n",
       "CTA            53450\n",
       "Scroll 100%    26820\n",
       "Scroll 75%     26566\n",
       "Name: count, dtype: int64"
      ]
     },
     "execution_count": 8,
     "metadata": {},
     "output_type": "execute_result"
    }
   ],
   "source": [
    "web_df[\"Actions\"].value_counts()"
   ]
  },
  {
   "cell_type": "code",
   "execution_count": 9,
   "id": "d1e57e3b-fa96-4668-a59e-34d275a136a3",
   "metadata": {},
   "outputs": [
    {
     "data": {
      "text/plain": [
       "Page Title\n",
       "Home          102632\n",
       "Funds          85450\n",
       "Navigation     85356\n",
       "Strategy       51686\n",
       "Contact        34595\n",
       "Invest         34309\n",
       "funds          34304\n",
       "Name: count, dtype: int64"
      ]
     },
     "execution_count": 9,
     "metadata": {},
     "output_type": "execute_result"
    }
   ],
   "source": [
    "web_df[\"Page Title\"].value_counts()"
   ]
  },
  {
   "cell_type": "code",
   "execution_count": 10,
   "id": "c7dcf579-2180-48d0-b708-1ac19552e154",
   "metadata": {},
   "outputs": [
    {
     "data": {
      "text/plain": [
       "Page Title  Actions    \n",
       "Contact     CTA             4313\n",
       "            Download        6505\n",
       "            Login           4338\n",
       "            Scroll 100%     2131\n",
       "            Scroll 25%      4340\n",
       "            Scroll 75%      2137\n",
       "            Srcoll 50%      6546\n",
       "            Video           4285\n",
       "Funds       CTA            10616\n",
       "            Download       16149\n",
       "            Login          10659\n",
       "            Scroll 100%     5422\n",
       "            Scroll 25%     10675\n",
       "            Scroll 75%      5332\n",
       "            Srcoll 50%     15972\n",
       "            Video          10625\n",
       "Home        CTA            12790\n",
       "            Download       19083\n",
       "            Login          12804\n",
       "            Scroll 100%     6388\n",
       "            Scroll 25%     13012\n",
       "            Scroll 75%      6364\n",
       "            Srcoll 50%     19328\n",
       "            Video          12863\n",
       "Invest      CTA             4219\n",
       "            Download        6420\n",
       "            Login           4312\n",
       "            Scroll 100%     2173\n",
       "            Scroll 25%      4303\n",
       "            Scroll 75%      2149\n",
       "            Srcoll 50%      6400\n",
       "            Video           4333\n",
       "Navigation  CTA            10650\n",
       "            Download       15975\n",
       "            Login          10674\n",
       "            Scroll 100%     5289\n",
       "            Scroll 25%     10726\n",
       "            Scroll 75%      5234\n",
       "            Srcoll 50%     16070\n",
       "            Video          10738\n",
       "Strategy    CTA             6540\n",
       "            Download        9697\n",
       "            Login           6425\n",
       "            Scroll 100%     3248\n",
       "            Scroll 25%      6450\n",
       "            Scroll 75%      3218\n",
       "            Srcoll 50%      9676\n",
       "            Video           6432\n",
       "funds       CTA             4322\n",
       "            Download        6366\n",
       "            Login           4295\n",
       "            Scroll 100%     2169\n",
       "            Scroll 25%      4225\n",
       "            Scroll 75%      2132\n",
       "            Srcoll 50%      6526\n",
       "            Video           4269\n",
       "Name: count, dtype: int64"
      ]
     },
     "execution_count": 10,
     "metadata": {},
     "output_type": "execute_result"
    }
   ],
   "source": [
    "web_df[[\"Page Title\", \"Actions\"]].value_counts().sort_index()"
   ]
  },
  {
   "cell_type": "code",
   "execution_count": 11,
   "id": "77c28837-efdb-431c-870f-d091a9bda318",
   "metadata": {},
   "outputs": [
    {
     "data": {
      "text/plain": [
       "Primary Topic\n",
       "Funds            85450\n",
       "Navigation       85356\n",
       "Strategy         51686\n",
       "Invest           34309\n",
       "funds            34304\n",
       "Fund Universe      650\n",
       "/                   96\n",
       ";                   32\n",
       "4345                 1\n",
       "test                 1\n",
       "Name: count, dtype: int64"
      ]
     },
     "execution_count": 11,
     "metadata": {},
     "output_type": "execute_result"
    }
   ],
   "source": [
    "web_df[\"Primary Topic\"].value_counts()"
   ]
  },
  {
   "cell_type": "markdown",
   "id": "c6176e01-aa83-41d0-b7e5-83530f6e41d6",
   "metadata": {},
   "source": [
    "## Traffic Source NULL"
   ]
  },
  {
   "cell_type": "code",
   "execution_count": 12,
   "id": "231d3a77-c94f-42f1-ae45-9428a599b847",
   "metadata": {},
   "outputs": [
    {
     "data": {
      "text/html": [
       "<div>\n",
       "<style scoped>\n",
       "    .dataframe tbody tr th:only-of-type {\n",
       "        vertical-align: middle;\n",
       "    }\n",
       "\n",
       "    .dataframe tbody tr th {\n",
       "        vertical-align: top;\n",
       "    }\n",
       "\n",
       "    .dataframe thead th {\n",
       "        text-align: right;\n",
       "    }\n",
       "</style>\n",
       "<table border=\"1\" class=\"dataframe\">\n",
       "  <thead>\n",
       "    <tr style=\"text-align: right;\">\n",
       "      <th></th>\n",
       "      <th>Session ID</th>\n",
       "      <th>Pageviews</th>\n",
       "      <th>Visit Date</th>\n",
       "      <th>Traffic Source</th>\n",
       "      <th>Actions</th>\n",
       "      <th>Time spent (in minutes)</th>\n",
       "      <th>Page Title</th>\n",
       "      <th>Contact ID</th>\n",
       "      <th>Primary Topic</th>\n",
       "    </tr>\n",
       "  </thead>\n",
       "  <tbody>\n",
       "    <tr>\n",
       "      <th>7275</th>\n",
       "      <td>11000268</td>\n",
       "      <td>1</td>\n",
       "      <td>2023-01-07</td>\n",
       "      <td>NaN</td>\n",
       "      <td>Download</td>\n",
       "      <td>14</td>\n",
       "      <td>Funds</td>\n",
       "      <td>00v2000000TN4RJAA1</td>\n",
       "      <td>Funds</td>\n",
       "    </tr>\n",
       "    <tr>\n",
       "      <th>8286</th>\n",
       "      <td>11002290</td>\n",
       "      <td>7</td>\n",
       "      <td>2023-01-08</td>\n",
       "      <td>NaN</td>\n",
       "      <td>Video</td>\n",
       "      <td>9</td>\n",
       "      <td>Navigation</td>\n",
       "      <td>00v2000000Nb5BSAAZ</td>\n",
       "      <td>Navigation</td>\n",
       "    </tr>\n",
       "    <tr>\n",
       "      <th>11344</th>\n",
       "      <td>11002632</td>\n",
       "      <td>2</td>\n",
       "      <td>2023-01-11</td>\n",
       "      <td>NaN</td>\n",
       "      <td>Video</td>\n",
       "      <td>14</td>\n",
       "      <td>funds</td>\n",
       "      <td>00v2000000f9TArAAM</td>\n",
       "      <td>funds</td>\n",
       "    </tr>\n",
       "    <tr>\n",
       "      <th>16607</th>\n",
       "      <td>11000793</td>\n",
       "      <td>4</td>\n",
       "      <td>2023-01-16</td>\n",
       "      <td>NaN</td>\n",
       "      <td>Video</td>\n",
       "      <td>3</td>\n",
       "      <td>Funds</td>\n",
       "      <td>00v2000000NdD9DAAV</td>\n",
       "      <td>Funds</td>\n",
       "    </tr>\n",
       "    <tr>\n",
       "      <th>20711</th>\n",
       "      <td>11001937</td>\n",
       "      <td>1</td>\n",
       "      <td>2023-01-20</td>\n",
       "      <td>NaN</td>\n",
       "      <td>Srcoll 50%</td>\n",
       "      <td>8</td>\n",
       "      <td>funds</td>\n",
       "      <td>00v2000000PMjKtAAL</td>\n",
       "      <td>funds</td>\n",
       "    </tr>\n",
       "  </tbody>\n",
       "</table>\n",
       "</div>"
      ],
      "text/plain": [
       "       Session ID  Pageviews Visit Date Traffic Source     Actions  \\\n",
       "7275     11000268          1 2023-01-07            NaN    Download   \n",
       "8286     11002290          7 2023-01-08            NaN       Video   \n",
       "11344    11002632          2 2023-01-11            NaN       Video   \n",
       "16607    11000793          4 2023-01-16            NaN       Video   \n",
       "20711    11001937          1 2023-01-20            NaN  Srcoll 50%   \n",
       "\n",
       "       Time spent (in minutes)  Page Title          Contact ID Primary Topic  \n",
       "7275                        14       Funds  00v2000000TN4RJAA1         Funds  \n",
       "8286                         9  Navigation  00v2000000Nb5BSAAZ    Navigation  \n",
       "11344                       14       funds  00v2000000f9TArAAM         funds  \n",
       "16607                        3       Funds  00v2000000NdD9DAAV         Funds  \n",
       "20711                        8       funds  00v2000000PMjKtAAL         funds  "
      ]
     },
     "execution_count": 12,
     "metadata": {},
     "output_type": "execute_result"
    }
   ],
   "source": [
    "web_df[web_df[\"Traffic Source\"].isnull()].head()"
   ]
  },
  {
   "cell_type": "code",
   "execution_count": 13,
   "id": "6b7667ba-6f7e-4061-83e3-fed0e502b166",
   "metadata": {},
   "outputs": [
    {
     "data": {
      "text/plain": [
       "Country\n",
       "Italy     92\n",
       "Canada    66\n",
       "Name: count, dtype: int64"
      ]
     },
     "execution_count": 13,
     "metadata": {},
     "output_type": "execute_result"
    }
   ],
   "source": [
    "contact_df[contact_df[\"Contact_id\"].isin(web_df[web_df[\"Traffic Source\"].isnull()] \\\n",
    "                                         [\"Contact ID\"].unique())][\"Country\"].value_counts()"
   ]
  },
  {
   "cell_type": "code",
   "execution_count": 14,
   "id": "ace25dfa-e4f0-4592-b713-52bc13432493",
   "metadata": {},
   "outputs": [
    {
     "data": {
      "text/plain": [
       "Page Title\n",
       "Home          38\n",
       "Navigation    35\n",
       "Funds         31\n",
       "Strategy      16\n",
       "funds         15\n",
       "Invest        13\n",
       "Contact       10\n",
       "Name: count, dtype: int64"
      ]
     },
     "execution_count": 14,
     "metadata": {},
     "output_type": "execute_result"
    }
   ],
   "source": [
    "web_df[web_df[\"Traffic Source\"].isnull()][\"Page Title\"].value_counts()"
   ]
  },
  {
   "cell_type": "code",
   "execution_count": 15,
   "id": "6c4b05ea-4e95-4373-9a38-90e585295341",
   "metadata": {},
   "outputs": [
    {
     "data": {
      "text/plain": [
       "Actions\n",
       "Srcoll 50%     35\n",
       "Download       28\n",
       "Scroll 25%     24\n",
       "Video          20\n",
       "Login          18\n",
       "CTA            15\n",
       "Scroll 100%    12\n",
       "Scroll 75%      6\n",
       "Name: count, dtype: int64"
      ]
     },
     "execution_count": 15,
     "metadata": {},
     "output_type": "execute_result"
    }
   ],
   "source": [
    "web_df[web_df[\"Traffic Source\"].isnull()][\"Actions\"].value_counts()"
   ]
  },
  {
   "cell_type": "markdown",
   "id": "84e81256-e3cd-44f0-9d56-4da7308d2ed3",
   "metadata": {},
   "source": [
    "## Primary Topic\n",
    "\n",
    "- Page Title and Primary Topic are same for most of the cases"
   ]
  },
  {
   "cell_type": "code",
   "execution_count": 16,
   "id": "00099e87-0332-48cd-bc57-04b62b67c03d",
   "metadata": {},
   "outputs": [
    {
     "data": {
      "text/plain": [
       "Page Title  Primary Topic\n",
       "Funds       Funds            85450\n",
       "Navigation  Navigation       85356\n",
       "Strategy    Strategy         51686\n",
       "Invest      Invest           34309\n",
       "funds       funds            34304\n",
       "Home        Fund Universe      490\n",
       "Contact     Fund Universe      160\n",
       "Home        /                   74\n",
       "            ;                   23\n",
       "Contact     /                   22\n",
       "            ;                    9\n",
       "            4345                 1\n",
       "Home        test                 1\n",
       "Name: count, dtype: int64"
      ]
     },
     "execution_count": 16,
     "metadata": {},
     "output_type": "execute_result"
    }
   ],
   "source": [
    "web_df[web_df[\"Primary Topic\"].notnull()][[\"Page Title\", \"Primary Topic\"]].value_counts()"
   ]
  },
  {
   "cell_type": "code",
   "execution_count": 17,
   "id": "5d11f514-6cfd-43f1-bb06-4acaf19e9a8b",
   "metadata": {},
   "outputs": [
    {
     "data": {
      "text/plain": [
       "Page Title\n",
       "Home       102044\n",
       "Contact     34403\n",
       "Name: count, dtype: int64"
      ]
     },
     "execution_count": 17,
     "metadata": {},
     "output_type": "execute_result"
    }
   ],
   "source": [
    "web_df[web_df[\"Primary Topic\"].isnull()][\"Page Title\"].value_counts()"
   ]
  },
  {
   "cell_type": "markdown",
   "id": "54200874-48e7-4b68-b877-b7efe4ed48b0",
   "metadata": {},
   "source": [
    "## Session ID\n",
    "\n",
    "- Same session alloted to multiple contacts"
   ]
  },
  {
   "cell_type": "code",
   "execution_count": 18,
   "id": "dad42a2e-5891-4af8-81c3-9c6a95413cb4",
   "metadata": {},
   "outputs": [
    {
     "data": {
      "text/plain": [
       "Session ID\n",
       "11000528    170\n",
       "11001025    169\n",
       "11001882    169\n",
       "11001704    168\n",
       "11003222    168\n",
       "           ... \n",
       "11002065     97\n",
       "11001935     95\n",
       "11001962     94\n",
       "11002104     93\n",
       "11003361     92\n",
       "Name: count, Length: 3294, dtype: int64"
      ]
     },
     "execution_count": 18,
     "metadata": {},
     "output_type": "execute_result"
    }
   ],
   "source": [
    "web_df[\"Session ID\"].value_counts()"
   ]
  },
  {
   "cell_type": "code",
   "execution_count": 21,
   "id": "3bae8c49-2d28-43d2-a492-c295e54c6a05",
   "metadata": {},
   "outputs": [
    {
     "data": {
      "text/plain": [
       "169"
      ]
     },
     "execution_count": 21,
     "metadata": {},
     "output_type": "execute_result"
    }
   ],
   "source": [
    "web_df[web_df[\"Session ID\"] == 11000528][\"Contact ID\"].nunique()"
   ]
  },
  {
   "cell_type": "code",
   "execution_count": null,
   "id": "e0111464-26c6-4526-87e5-d0a63c22116e",
   "metadata": {},
   "outputs": [],
   "source": []
  }
 ],
 "metadata": {
  "kernelspec": {
   "display_name": "Python 3 (ipykernel)",
   "language": "python",
   "name": "python3"
  },
  "language_info": {
   "codemirror_mode": {
    "name": "ipython",
    "version": 3
   },
   "file_extension": ".py",
   "mimetype": "text/x-python",
   "name": "python",
   "nbconvert_exporter": "python",
   "pygments_lexer": "ipython3",
   "version": "3.10.12"
  }
 },
 "nbformat": 4,
 "nbformat_minor": 5
}
