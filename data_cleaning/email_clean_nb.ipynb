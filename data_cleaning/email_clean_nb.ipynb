{
 "cells": [
  {
   "cell_type": "code",
   "execution_count": 1,
   "id": "023fa439-2324-4f10-9ec8-be360c44a4b7",
   "metadata": {},
   "outputs": [],
   "source": [
    "import pandas as pd"
   ]
  },
  {
   "cell_type": "code",
   "execution_count": 2,
   "id": "f645e6e8-87d5-41fb-bed8-1d390c08ad54",
   "metadata": {},
   "outputs": [
    {
     "data": {
      "text/html": [
       "<div>\n",
       "<style scoped>\n",
       "    .dataframe tbody tr th:only-of-type {\n",
       "        vertical-align: middle;\n",
       "    }\n",
       "\n",
       "    .dataframe tbody tr th {\n",
       "        vertical-align: top;\n",
       "    }\n",
       "\n",
       "    .dataframe thead th {\n",
       "        text-align: right;\n",
       "    }\n",
       "</style>\n",
       "<table border=\"1\" class=\"dataframe\">\n",
       "  <thead>\n",
       "    <tr style=\"text-align: right;\">\n",
       "      <th></th>\n",
       "      <th>Email_Campaign_id</th>\n",
       "      <th>contact_id</th>\n",
       "      <th>email_subject</th>\n",
       "      <th>is_sent</th>\n",
       "      <th>is_delivered</th>\n",
       "      <th>is_link_clicked</th>\n",
       "      <th>is_hard_bounce</th>\n",
       "      <th>is_bounce</th>\n",
       "      <th>is_opt_out</th>\n",
       "      <th>is_open</th>\n",
       "      <th>Sent_date</th>\n",
       "      <th>Campaign_type</th>\n",
       "      <th>Primary Topic</th>\n",
       "    </tr>\n",
       "  </thead>\n",
       "  <tbody>\n",
       "    <tr>\n",
       "      <th>0</th>\n",
       "      <td>701200000006cIGAAY</td>\n",
       "      <td>00v2000000IZVYWAA5</td>\n",
       "      <td>Roadshow Houston (Advisor)</td>\n",
       "      <td>1</td>\n",
       "      <td>1</td>\n",
       "      <td>0</td>\n",
       "      <td>0</td>\n",
       "      <td>0</td>\n",
       "      <td>0</td>\n",
       "      <td>1</td>\n",
       "      <td>2/7/2023</td>\n",
       "      <td>Events - In Person</td>\n",
       "      <td>/</td>\n",
       "    </tr>\n",
       "    <tr>\n",
       "      <th>1</th>\n",
       "      <td>701200000006cIGAAY</td>\n",
       "      <td>00v2000000IZW13AAH</td>\n",
       "      <td>Roadshow Houston (Advisor)</td>\n",
       "      <td>1</td>\n",
       "      <td>1</td>\n",
       "      <td>0</td>\n",
       "      <td>0</td>\n",
       "      <td>0</td>\n",
       "      <td>0</td>\n",
       "      <td>1</td>\n",
       "      <td>2/7/2023</td>\n",
       "      <td>Events - In Person</td>\n",
       "      <td>/</td>\n",
       "    </tr>\n",
       "    <tr>\n",
       "      <th>2</th>\n",
       "      <td>701200000006cIGAAY</td>\n",
       "      <td>00v2000000IZUepAAH</td>\n",
       "      <td>Roadshow Houston (Advisor)</td>\n",
       "      <td>1</td>\n",
       "      <td>1</td>\n",
       "      <td>0</td>\n",
       "      <td>0</td>\n",
       "      <td>0</td>\n",
       "      <td>0</td>\n",
       "      <td>0</td>\n",
       "      <td>2/7/2023</td>\n",
       "      <td>Events - In Person</td>\n",
       "      <td>/</td>\n",
       "    </tr>\n",
       "    <tr>\n",
       "      <th>3</th>\n",
       "      <td>701200000006cIGAAY</td>\n",
       "      <td>00v2000000IZWDdAAP</td>\n",
       "      <td>Roadshow Houston (Advisor)</td>\n",
       "      <td>1</td>\n",
       "      <td>1</td>\n",
       "      <td>0</td>\n",
       "      <td>0</td>\n",
       "      <td>0</td>\n",
       "      <td>0</td>\n",
       "      <td>0</td>\n",
       "      <td>2/7/2023</td>\n",
       "      <td>Events - In Person</td>\n",
       "      <td>/</td>\n",
       "    </tr>\n",
       "    <tr>\n",
       "      <th>4</th>\n",
       "      <td>701200000006cIGAAY</td>\n",
       "      <td>00v2000000IZUdSAAX</td>\n",
       "      <td>Roadshow Houston (Advisor)</td>\n",
       "      <td>1</td>\n",
       "      <td>1</td>\n",
       "      <td>0</td>\n",
       "      <td>0</td>\n",
       "      <td>0</td>\n",
       "      <td>0</td>\n",
       "      <td>0</td>\n",
       "      <td>2/7/2023</td>\n",
       "      <td>Events - In Person</td>\n",
       "      <td>/</td>\n",
       "    </tr>\n",
       "  </tbody>\n",
       "</table>\n",
       "</div>"
      ],
      "text/plain": [
       "    Email_Campaign_id          contact_id               email_subject  \\\n",
       "0  701200000006cIGAAY  00v2000000IZVYWAA5  Roadshow Houston (Advisor)   \n",
       "1  701200000006cIGAAY  00v2000000IZW13AAH  Roadshow Houston (Advisor)   \n",
       "2  701200000006cIGAAY  00v2000000IZUepAAH  Roadshow Houston (Advisor)   \n",
       "3  701200000006cIGAAY  00v2000000IZWDdAAP  Roadshow Houston (Advisor)   \n",
       "4  701200000006cIGAAY  00v2000000IZUdSAAX  Roadshow Houston (Advisor)   \n",
       "\n",
       "   is_sent  is_delivered  is_link_clicked  is_hard_bounce  is_bounce  \\\n",
       "0        1             1                0               0          0   \n",
       "1        1             1                0               0          0   \n",
       "2        1             1                0               0          0   \n",
       "3        1             1                0               0          0   \n",
       "4        1             1                0               0          0   \n",
       "\n",
       "   is_opt_out  is_open Sent_date       Campaign_type Primary Topic  \n",
       "0           0        1  2/7/2023  Events - In Person             /  \n",
       "1           0        1  2/7/2023  Events - In Person             /  \n",
       "2           0        0  2/7/2023  Events - In Person             /  \n",
       "3           0        0  2/7/2023  Events - In Person             /  \n",
       "4           0        0  2/7/2023  Events - In Person             /  "
      ]
     },
     "execution_count": 2,
     "metadata": {},
     "output_type": "execute_result"
    }
   ],
   "source": [
    "email_path = \"../data/Email_Campaign_Details.csv\"\n",
    "# email_df = pd.read_csv(email_path, encoding='mac_roman', parse_dates=[\"Sent_date\"])\n",
    "email_df = pd.read_csv(email_path, encoding='mac_roman')\n",
    "email_df.head()"
   ]
  },
  {
   "cell_type": "code",
   "execution_count": 3,
   "id": "8c19edb0-592d-4244-b39b-363cbf8a8996",
   "metadata": {},
   "outputs": [],
   "source": [
    "## Convert all the NULLs in Primary Topic to \"Undefined\"\n",
    "\n",
    "email_df[\"Primary Topic\"] = email_df[\"Primary Topic\"].fillna(\"Undefined\")\n",
    "\n",
    "## Fix spelling error in the Primary Topic column\n",
    "topic_map = {\n",
    "    \"Ad hoc\": \"Adhoc\",\n",
    "    \"Asssets\": \"Asset\",\n",
    "    \"--\": \"Undefined\",\n",
    "    \"/\": \"Undefined\"\n",
    "}\n",
    "\n",
    "email_df[\"Primary Topic\"] = email_df[\"Primary Topic\"] \\\n",
    "    .map(lambda x: x if x not in topic_map.keys() else topic_map[x])"
   ]
  },
  {
   "cell_type": "code",
   "execution_count": 4,
   "id": "f754e0c8-93ca-49d3-8d28-92cede28c216",
   "metadata": {},
   "outputs": [
    {
     "data": {
      "text/plain": [
       "Primary Topic\n",
       "ETF                34706\n",
       "Undefined          16484\n",
       "Adhoc              15799\n",
       "Bonds              14321\n",
       "Portfolio          13840\n",
       "Market Insights    13226\n",
       "Equities            6514\n",
       "Insights            5326\n",
       "HealthCare          4943\n",
       "Asset               1156\n",
       "Funds                814\n",
       "Income               465\n",
       "Investment           449\n",
       "Retirement           187\n",
       "Growth                 6\n",
       "Name: count, dtype: int64"
      ]
     },
     "execution_count": 4,
     "metadata": {},
     "output_type": "execute_result"
    }
   ],
   "source": [
    "email_df[\"Primary Topic\"].value_counts()"
   ]
  },
  {
   "cell_type": "code",
   "execution_count": 5,
   "id": "9f7af7ee-f1ae-4b50-b660-a6ade64724f2",
   "metadata": {},
   "outputs": [
    {
     "name": "stdout",
     "output_type": "stream",
     "text": [
      "<class 'pandas.core.frame.DataFrame'>\n",
      "RangeIndex: 128236 entries, 0 to 128235\n",
      "Data columns (total 13 columns):\n",
      " #   Column             Non-Null Count   Dtype \n",
      "---  ------             --------------   ----- \n",
      " 0   Email_Campaign_id  128236 non-null  object\n",
      " 1   contact_id         128236 non-null  object\n",
      " 2   email_subject      128236 non-null  object\n",
      " 3   is_sent            128236 non-null  int64 \n",
      " 4   is_delivered       128236 non-null  int64 \n",
      " 5   is_link_clicked    128236 non-null  int64 \n",
      " 6   is_hard_bounce     128236 non-null  int64 \n",
      " 7   is_bounce          128236 non-null  int64 \n",
      " 8   is_opt_out         128236 non-null  int64 \n",
      " 9   is_open            128236 non-null  int64 \n",
      " 10  Sent_date          128236 non-null  object\n",
      " 11  Campaign_type      128236 non-null  object\n",
      " 12  Primary Topic      128236 non-null  object\n",
      "dtypes: int64(7), object(6)\n",
      "memory usage: 12.7+ MB\n"
     ]
    }
   ],
   "source": [
    "email_df.info()"
   ]
  },
  {
   "cell_type": "code",
   "execution_count": 6,
   "id": "b31d03fe-5e00-4cb5-a360-8ac6f412dc41",
   "metadata": {},
   "outputs": [],
   "source": [
    "## drop 3 rows where email is not opened but link is clicked\n",
    "\n",
    "email_df.drop(email_df[(email_df[\"is_open\"] == 0) & (email_df[\"is_link_clicked\"] == 1)].index,\n",
    "              inplace=True\n",
    "             )\n"
   ]
  },
  {
   "cell_type": "code",
   "execution_count": 7,
   "id": "75a744d5-ad35-4e7d-a4f2-634aa65ab4c3",
   "metadata": {},
   "outputs": [],
   "source": [
    "clean_email_path = \"../cleaned_data/email_campaign_cleaned.csv\"\n",
    "email_df.to_csv(clean_email_path, index=False)"
   ]
  },
  {
   "cell_type": "code",
   "execution_count": null,
   "id": "8a668b79-2ef8-4ca8-9691-462b11bf9b87",
   "metadata": {},
   "outputs": [],
   "source": []
  }
 ],
 "metadata": {
  "kernelspec": {
   "display_name": "Python 3 (ipykernel)",
   "language": "python",
   "name": "python3"
  },
  "language_info": {
   "codemirror_mode": {
    "name": "ipython",
    "version": 3
   },
   "file_extension": ".py",
   "mimetype": "text/x-python",
   "name": "python",
   "nbconvert_exporter": "python",
   "pygments_lexer": "ipython3",
   "version": "3.10.12"
  }
 },
 "nbformat": 4,
 "nbformat_minor": 5
}
