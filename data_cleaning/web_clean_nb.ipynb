{
 "cells": [
  {
   "cell_type": "code",
   "execution_count": 1,
   "id": "51bc4f93-a0a2-490b-900c-e01d4ef646a3",
   "metadata": {},
   "outputs": [],
   "source": [
    "import pandas as pd"
   ]
  },
  {
   "cell_type": "code",
   "execution_count": 2,
   "id": "b2757f80-76b3-413a-9225-afc79fdaa1de",
   "metadata": {},
   "outputs": [
    {
     "name": "stderr",
     "output_type": "stream",
     "text": [
      "/tmp/ipykernel_12474/1231117421.py:2: UserWarning: Could not infer format, so each element will be parsed individually, falling back to `dateutil`. To ensure parsing is consistent and as-expected, please specify a format.\n",
      "  web_df = pd.read_csv(web_path, parse_dates=[\"Visit Date\"])\n"
     ]
    },
    {
     "data": {
      "text/html": [
       "<div>\n",
       "<style scoped>\n",
       "    .dataframe tbody tr th:only-of-type {\n",
       "        vertical-align: middle;\n",
       "    }\n",
       "\n",
       "    .dataframe tbody tr th {\n",
       "        vertical-align: top;\n",
       "    }\n",
       "\n",
       "    .dataframe thead th {\n",
       "        text-align: right;\n",
       "    }\n",
       "</style>\n",
       "<table border=\"1\" class=\"dataframe\">\n",
       "  <thead>\n",
       "    <tr style=\"text-align: right;\">\n",
       "      <th></th>\n",
       "      <th>Session ID</th>\n",
       "      <th>Pageviews</th>\n",
       "      <th>Visit Date</th>\n",
       "      <th>Traffic Source</th>\n",
       "      <th>Actions</th>\n",
       "      <th>Time spent (in minutes)</th>\n",
       "      <th>Page Title</th>\n",
       "      <th>Contact ID</th>\n",
       "      <th>Primary Topic</th>\n",
       "    </tr>\n",
       "  </thead>\n",
       "  <tbody>\n",
       "    <tr>\n",
       "      <th>0</th>\n",
       "      <td>11002649</td>\n",
       "      <td>4</td>\n",
       "      <td>2023-01-01</td>\n",
       "      <td>LinkedIn</td>\n",
       "      <td>Download</td>\n",
       "      <td>9</td>\n",
       "      <td>Contact</td>\n",
       "      <td>00v2000000KM7EdAAL</td>\n",
       "      <td>Fund Universe</td>\n",
       "    </tr>\n",
       "    <tr>\n",
       "      <th>1</th>\n",
       "      <td>11002963</td>\n",
       "      <td>5</td>\n",
       "      <td>2023-01-01</td>\n",
       "      <td>Organic</td>\n",
       "      <td>Srcoll 50%</td>\n",
       "      <td>13</td>\n",
       "      <td>Contact</td>\n",
       "      <td>00v2000000KLfqsAAD</td>\n",
       "      <td>Fund Universe</td>\n",
       "    </tr>\n",
       "    <tr>\n",
       "      <th>2</th>\n",
       "      <td>11000521</td>\n",
       "      <td>7</td>\n",
       "      <td>2023-01-01</td>\n",
       "      <td>Google</td>\n",
       "      <td>Srcoll 50%</td>\n",
       "      <td>3</td>\n",
       "      <td>Home</td>\n",
       "      <td>00v2000000KO68GAAT</td>\n",
       "      <td>Fund Universe</td>\n",
       "    </tr>\n",
       "    <tr>\n",
       "      <th>3</th>\n",
       "      <td>11001502</td>\n",
       "      <td>5</td>\n",
       "      <td>2023-01-01</td>\n",
       "      <td>LinkedIn</td>\n",
       "      <td>Download</td>\n",
       "      <td>14</td>\n",
       "      <td>Contact</td>\n",
       "      <td>00v2000000KrZiaAAF</td>\n",
       "      <td>Fund Universe</td>\n",
       "    </tr>\n",
       "    <tr>\n",
       "      <th>4</th>\n",
       "      <td>11001448</td>\n",
       "      <td>6</td>\n",
       "      <td>2023-01-01</td>\n",
       "      <td>Organic</td>\n",
       "      <td>Login</td>\n",
       "      <td>3</td>\n",
       "      <td>Home</td>\n",
       "      <td>00v2000000ez1ucAAA</td>\n",
       "      <td>Fund Universe</td>\n",
       "    </tr>\n",
       "  </tbody>\n",
       "</table>\n",
       "</div>"
      ],
      "text/plain": [
       "   Session ID  Pageviews Visit Date Traffic Source     Actions  \\\n",
       "0    11002649          4 2023-01-01       LinkedIn    Download   \n",
       "1    11002963          5 2023-01-01        Organic  Srcoll 50%   \n",
       "2    11000521          7 2023-01-01         Google  Srcoll 50%   \n",
       "3    11001502          5 2023-01-01       LinkedIn    Download   \n",
       "4    11001448          6 2023-01-01        Organic       Login   \n",
       "\n",
       "   Time spent (in minutes) Page Title          Contact ID  Primary Topic  \n",
       "0                        9    Contact  00v2000000KM7EdAAL  Fund Universe  \n",
       "1                       13    Contact  00v2000000KLfqsAAD  Fund Universe  \n",
       "2                        3       Home  00v2000000KO68GAAT  Fund Universe  \n",
       "3                       14    Contact  00v2000000KrZiaAAF  Fund Universe  \n",
       "4                        3       Home  00v2000000ez1ucAAA  Fund Universe  "
      ]
     },
     "execution_count": 2,
     "metadata": {},
     "output_type": "execute_result"
    }
   ],
   "source": [
    "web_path = \"../data/Web_Traffic.csv\"\n",
    "web_df = pd.read_csv(web_path, parse_dates=[\"Visit Date\"])\n",
    "web_df.head()"
   ]
  },
  {
   "cell_type": "code",
   "execution_count": 3,
   "id": "efeac74f-5478-4847-9486-ff8ec9f619bc",
   "metadata": {},
   "outputs": [],
   "source": [
    "## Visit Date cahnged to correct date format\n",
    "\n",
    "web_df[\"Visit Date\"] = web_df[\"Visit Date\"].astype(str)"
   ]
  },
  {
   "cell_type": "code",
   "execution_count": 4,
   "id": "8f38a0fd-6d98-4115-8faa-f37c8c4d477c",
   "metadata": {},
   "outputs": [
    {
     "name": "stdout",
     "output_type": "stream",
     "text": [
      "<class 'pandas.core.frame.DataFrame'>\n",
      "RangeIndex: 428332 entries, 0 to 428331\n",
      "Data columns (total 9 columns):\n",
      " #   Column                   Non-Null Count   Dtype \n",
      "---  ------                   --------------   ----- \n",
      " 0   Session ID               428332 non-null  object\n",
      " 1   Pageviews                428332 non-null  int64 \n",
      " 2   Visit Date               428332 non-null  object\n",
      " 3   Traffic Source           428174 non-null  object\n",
      " 4   Actions                  428332 non-null  object\n",
      " 5   Time spent (in minutes)  428332 non-null  int64 \n",
      " 6   Page Title               428332 non-null  object\n",
      " 7   Contact ID               428332 non-null  object\n",
      " 8   Primary Topic            291885 non-null  object\n",
      "dtypes: int64(2), object(7)\n",
      "memory usage: 29.4+ MB\n"
     ]
    }
   ],
   "source": [
    "## convert data type of session ID to string\n",
    "\n",
    "web_df = web_df.astype({\"Session ID\": str})\n",
    "web_df.info()"
   ]
  },
  {
   "cell_type": "code",
   "execution_count": 5,
   "id": "ccafa624-537f-419b-a71b-56678c9d2cf8",
   "metadata": {},
   "outputs": [],
   "source": [
    "## Make a new unique session ID\n",
    "\n",
    "web_df[\"Session ID\"] = web_df[\"Session ID\"] + web_df[\"Contact ID\"]"
   ]
  },
  {
   "cell_type": "code",
   "execution_count": 6,
   "id": "557ac384-8521-4d38-ae61-df927e1a5609",
   "metadata": {},
   "outputs": [
    {
     "data": {
      "text/plain": [
       "Traffic Source\n",
       "LinkedIn    179156\n",
       "Organic      95363\n",
       "YouTube      92733\n",
       "Google       60922\n",
       "Unknown        158\n",
       "Name: count, dtype: int64"
      ]
     },
     "execution_count": 6,
     "metadata": {},
     "output_type": "execute_result"
    }
   ],
   "source": [
    "## correct Traffic Source column\n",
    "## fill null values of Traffic Source column\n",
    "\n",
    "web_df[\"Traffic Source\"] = web_df[\"Traffic Source\"].fillna(\"Unknown\")\n",
    "\n",
    "traffic_source_map = {\n",
    "    \"organic\": \"Organic\",\n",
    "    \"Youtube\": \"YouTube\"\n",
    "}\n",
    "\n",
    "web_df[\"Traffic Source\"] = web_df[\"Traffic Source\"] \\\n",
    "    .map(lambda x: x if x not in traffic_source_map.keys() else traffic_source_map[x])\n",
    "\n",
    "web_df[\"Traffic Source\"].value_counts()"
   ]
  },
  {
   "cell_type": "code",
   "execution_count": 7,
   "id": "f7fd2c05-bcb6-4f9a-a155-18dd46f52705",
   "metadata": {},
   "outputs": [
    {
     "data": {
      "text/plain": [
       "Traffic Source\n",
       "LinkedIn    179156\n",
       "Organic      95363\n",
       "YouTube      92733\n",
       "Google       60922\n",
       "Unknown        158\n",
       "Name: count, dtype: int64"
      ]
     },
     "execution_count": 7,
     "metadata": {},
     "output_type": "execute_result"
    }
   ],
   "source": [
    "web_df[\"Traffic Source\"].value_counts()"
   ]
  },
  {
   "cell_type": "code",
   "execution_count": 8,
   "id": "794f6ff8-4d09-4943-8439-351f9c82f207",
   "metadata": {},
   "outputs": [
    {
     "data": {
      "text/plain": [
       "Page Title\n",
       "Funds         119754\n",
       "Home          102632\n",
       "Navigation     85356\n",
       "Strategy       51686\n",
       "Contact        34595\n",
       "Invest         34309\n",
       "Name: count, dtype: int64"
      ]
     },
     "execution_count": 8,
     "metadata": {},
     "output_type": "execute_result"
    }
   ],
   "source": [
    "## correct Page Title column\n",
    "\n",
    "page_title_map = {\n",
    "    \"funds\": \"Funds\"\n",
    "}\n",
    "\n",
    "web_df[\"Page Title\"] = web_df[\"Page Title\"] \\\n",
    "    .map(lambda x: x if x not in page_title_map.keys() else page_title_map[x])\n",
    "\n",
    "web_df[\"Page Title\"].value_counts()"
   ]
  },
  {
   "cell_type": "code",
   "execution_count": 9,
   "id": "e2914ba1-7e19-4faf-b997-3a6e5720fca7",
   "metadata": {},
   "outputs": [],
   "source": [
    "## remove test entry\n",
    "\n",
    "web_df.drop(web_df[web_df[\"Primary Topic\"] == \"test\"].index,\n",
    "            inplace=True\n",
    "           )"
   ]
  },
  {
   "cell_type": "code",
   "execution_count": 10,
   "id": "962b2618-1f4e-479a-bbe1-5e4795d984a9",
   "metadata": {},
   "outputs": [
    {
     "data": {
      "text/html": [
       "<div>\n",
       "<style scoped>\n",
       "    .dataframe tbody tr th:only-of-type {\n",
       "        vertical-align: middle;\n",
       "    }\n",
       "\n",
       "    .dataframe tbody tr th {\n",
       "        vertical-align: top;\n",
       "    }\n",
       "\n",
       "    .dataframe thead th {\n",
       "        text-align: right;\n",
       "    }\n",
       "</style>\n",
       "<table border=\"1\" class=\"dataframe\">\n",
       "  <thead>\n",
       "    <tr style=\"text-align: right;\">\n",
       "      <th></th>\n",
       "      <th>Session ID</th>\n",
       "      <th>Pageviews</th>\n",
       "      <th>Visit Date</th>\n",
       "      <th>Traffic Source</th>\n",
       "      <th>Actions</th>\n",
       "      <th>Time spent (in minutes)</th>\n",
       "      <th>Page Title</th>\n",
       "      <th>Contact ID</th>\n",
       "      <th>Primary Topic</th>\n",
       "    </tr>\n",
       "  </thead>\n",
       "  <tbody>\n",
       "  </tbody>\n",
       "</table>\n",
       "</div>"
      ],
      "text/plain": [
       "Empty DataFrame\n",
       "Columns: [Session ID, Pageviews, Visit Date, Traffic Source, Actions, Time spent (in minutes), Page Title, Contact ID, Primary Topic]\n",
       "Index: []"
      ]
     },
     "execution_count": 10,
     "metadata": {},
     "output_type": "execute_result"
    }
   ],
   "source": [
    "web_df[web_df[\"Primary Topic\"] == \"test\"]"
   ]
  },
  {
   "cell_type": "code",
   "execution_count": 11,
   "id": "7dd03340-2005-4537-aac7-7c55f346e85b",
   "metadata": {},
   "outputs": [],
   "source": [
    "## Correct Primary Topic column\n",
    "\n",
    "web_df[\"Primary Topic\"] = web_df[\"Page Title\"] "
   ]
  },
  {
   "cell_type": "code",
   "execution_count": 12,
   "id": "228124be-66b1-47e1-8d2c-f64af3cd4738",
   "metadata": {},
   "outputs": [
    {
     "data": {
      "text/plain": [
       "Page Title  Primary Topic\n",
       "Funds       Funds            119754\n",
       "Home        Home             102631\n",
       "Navigation  Navigation        85356\n",
       "Strategy    Strategy          51686\n",
       "Contact     Contact           34595\n",
       "Invest      Invest            34309\n",
       "Name: count, dtype: int64"
      ]
     },
     "execution_count": 12,
     "metadata": {},
     "output_type": "execute_result"
    }
   ],
   "source": [
    "web_df[[\"Page Title\", \"Primary Topic\"]].value_counts()"
   ]
  },
  {
   "cell_type": "code",
   "execution_count": 13,
   "id": "f54804d1-696e-4b88-b438-066b7ed8fc3f",
   "metadata": {},
   "outputs": [
    {
     "name": "stdout",
     "output_type": "stream",
     "text": [
      "<class 'pandas.core.frame.DataFrame'>\n",
      "Index: 428331 entries, 0 to 428331\n",
      "Data columns (total 9 columns):\n",
      " #   Column                   Non-Null Count   Dtype \n",
      "---  ------                   --------------   ----- \n",
      " 0   Session ID               428331 non-null  object\n",
      " 1   Pageviews                428331 non-null  int64 \n",
      " 2   Visit Date               428331 non-null  object\n",
      " 3   Traffic Source           428331 non-null  object\n",
      " 4   Actions                  428331 non-null  object\n",
      " 5   Time spent (in minutes)  428331 non-null  int64 \n",
      " 6   Page Title               428331 non-null  object\n",
      " 7   Contact ID               428331 non-null  object\n",
      " 8   Primary Topic            428331 non-null  object\n",
      "dtypes: int64(2), object(7)\n",
      "memory usage: 32.7+ MB\n"
     ]
    }
   ],
   "source": [
    "web_df.info()"
   ]
  },
  {
   "cell_type": "code",
   "execution_count": 14,
   "id": "42ef429d-6f60-4862-955a-a3678adc89d3",
   "metadata": {},
   "outputs": [],
   "source": [
    "# join contact dataframe with email campaign data\n",
    "\n",
    "contact_df = pd.read_csv(\"../cleaned_data/contact_details_cleaned.csv\")\n",
    "\n",
    "web_df = web_df.merge(contact_df,\n",
    "                      how=\"inner\",\n",
    "                      left_on = \"Contact ID\",\n",
    "                      right_on = \"Contact_id\"\n",
    "                     )\n",
    "web_df.drop([\"Contact_id\"], axis=1, inplace=True)"
   ]
  },
  {
   "cell_type": "code",
   "execution_count": 15,
   "id": "2b98f18c-79f1-474b-90c0-7a6a9208f0a1",
   "metadata": {},
   "outputs": [],
   "source": [
    "clean_web_path = \"../cleaned_data/web_campaign_cleaned.csv\"\n",
    "web_df.to_csv(clean_web_path, index=False)"
   ]
  },
  {
   "cell_type": "code",
   "execution_count": null,
   "id": "01117227-d796-4420-969e-f69f0edf7f1d",
   "metadata": {},
   "outputs": [],
   "source": []
  }
 ],
 "metadata": {
  "kernelspec": {
   "display_name": "Python 3 (ipykernel)",
   "language": "python",
   "name": "python3"
  },
  "language_info": {
   "codemirror_mode": {
    "name": "ipython",
    "version": 3
   },
   "file_extension": ".py",
   "mimetype": "text/x-python",
   "name": "python",
   "nbconvert_exporter": "python",
   "pygments_lexer": "ipython3",
   "version": "3.10.12"
  }
 },
 "nbformat": 4,
 "nbformat_minor": 5
}
